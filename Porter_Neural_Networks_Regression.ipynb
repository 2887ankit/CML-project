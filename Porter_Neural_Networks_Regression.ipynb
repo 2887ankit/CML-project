{
  "cells": [
    {
      "cell_type": "markdown",
      "source": [
        "## Table of Contents\n",
        "[Importing libraries](#scrollTo=X0eHp0u1mTFO)\n",
        "\n",
        "[Checking for null values](#scrollTo=9jgo6Nxi5o8k)\n",
        "\n",
        "[Handling null values](#scrollTo=XqIeAzHhREOX)\n",
        "\n",
        "[Conversion to appropriate to data types](#scrollTo=Ko6ijQ_dhlVc)\n",
        "\n",
        "[Feature Engineering](#scrollTo=KbxCFmimmYoR)\n",
        "\n",
        "[Visualization](#scrollTo=yKzZ8X1aFHBd)\n",
        "\n",
        "[Detecting and Handling Outliers(Unsupervised)](#scrollTo=dlpTeIEECo2x)\n",
        "\n",
        "[Graphical and Non Graphical Analysis](#scrollTo=s60Cq815CyTa)\n",
        "\n",
        "[Categorical variables encoding(OHE)](#scrollTo=CGVJTdZvVVHp)\n",
        "\n",
        "[Splitting train test data](#scrollTo=hpIjCPhNbVjA)\n",
        "\n",
        "[Target encoding for store_primary_category](#scrollTo=dpSEuUO6cMpq)\n",
        "\n",
        "[Scaling](#scrollTo=-NqodfaqilQh)\n",
        "\n",
        "[Modeling: Random Forest](#scrollTo=vanz1ZemwJem)\n",
        "\n",
        ">[Check accuracy score](#scrollTo=qFfZ8WVd1RkE)\n",
        "\n",
        "[Modeling: Neural Networks](#scrollTo=-CEQxsWr24wM)\n",
        "\n",
        ">[Neural Network - 1 hidden layer](#scrollTo=1_IVQpeW7cTL)\n",
        "\n",
        ">[Neural Network - 2 Hidden Layers](#scrollTo=wruX_4J0SXvl)\n",
        "\n",
        ">[Neural Network - 3 Hidden Layers](#scrollTo=ekAHEkMeSXvn)\n",
        "\n",
        "[Questionnaire](#scrollTo=xHZM0pp1SXvp)\n"
      ],
      "metadata": {
        "colab_type": "toc",
        "id": "18H_cPCeXMiT"
      }
    },
    {
      "cell_type": "markdown",
      "metadata": {
        "id": "X0eHp0u1mTFO"
      },
      "source": [
        "## Importing libraries"
      ]
    },
    {
      "cell_type": "code",
      "execution_count": null,
      "metadata": {
        "id": "HxefsJ0vl5z-"
      },
      "outputs": [],
      "source": [
        "import numpy as np\n",
        "import pandas as pd\n",
        "import io\n",
        "import requests\n",
        "import matplotlib.pyplot as plt\n",
        "import seaborn as sns\n",
        "import re\n",
        "import datetime\n",
        "import warnings\n",
        "warnings.filterwarnings(\"ignore\")"
      ]
    },
    {
      "cell_type": "code",
      "execution_count": null,
      "metadata": {
        "id": "ykVH1aPxzCrM"
      },
      "outputs": [],
      "source": [
        "df=pd.read_csv(\"dataset.csv\")"
      ]
    },
    {
      "cell_type": "code",
      "execution_count": null,
      "metadata": {
        "colab": {
          "base_uri": "https://localhost:8080/",
          "height": 357
        },
        "id": "BjINWSukzMZT",
        "outputId": "a61f1eea-ca20-4354-eef9-0582421c8edb"
      },
      "outputs": [
        {
          "output_type": "execute_result",
          "data": {
            "text/plain": [
              "   market_id           created_at actual_delivery_time  \\\n",
              "0        1.0  2015-02-06 22:24:17  2015-02-06 23:27:16   \n",
              "1        2.0  2015-02-10 21:49:25  2015-02-10 22:56:29   \n",
              "2        3.0  2015-01-22 20:39:28  2015-01-22 21:09:09   \n",
              "3        3.0  2015-02-03 21:21:45  2015-02-03 22:13:00   \n",
              "4        3.0  2015-02-15 02:40:36  2015-02-15 03:20:26   \n",
              "\n",
              "                           store_id store_primary_category  order_protocol  \\\n",
              "0  df263d996281d984952c07998dc54358               american             1.0   \n",
              "1  f0ade77b43923b38237db569b016ba25                mexican             2.0   \n",
              "2  f0ade77b43923b38237db569b016ba25                    NaN             1.0   \n",
              "3  f0ade77b43923b38237db569b016ba25                    NaN             1.0   \n",
              "4  f0ade77b43923b38237db569b016ba25                    NaN             1.0   \n",
              "\n",
              "   total_items  subtotal  num_distinct_items  min_item_price  max_item_price  \\\n",
              "0            4      3441                   4             557            1239   \n",
              "1            1      1900                   1            1400            1400   \n",
              "2            1      1900                   1            1900            1900   \n",
              "3            6      6900                   5             600            1800   \n",
              "4            3      3900                   3            1100            1600   \n",
              "\n",
              "   total_onshift_partners  total_busy_partners  total_outstanding_orders  \n",
              "0                    33.0                 14.0                      21.0  \n",
              "1                     1.0                  2.0                       2.0  \n",
              "2                     1.0                  0.0                       0.0  \n",
              "3                     1.0                  1.0                       2.0  \n",
              "4                     6.0                  6.0                       9.0  "
            ],
            "text/html": [
              "\n",
              "  <div id=\"df-aed6eae2-6188-4b36-a469-9d38b2f714e4\">\n",
              "    <div class=\"colab-df-container\">\n",
              "      <div>\n",
              "<style scoped>\n",
              "    .dataframe tbody tr th:only-of-type {\n",
              "        vertical-align: middle;\n",
              "    }\n",
              "\n",
              "    .dataframe tbody tr th {\n",
              "        vertical-align: top;\n",
              "    }\n",
              "\n",
              "    .dataframe thead th {\n",
              "        text-align: right;\n",
              "    }\n",
              "</style>\n",
              "<table border=\"1\" class=\"dataframe\">\n",
              "  <thead>\n",
              "    <tr style=\"text-align: right;\">\n",
              "      <th></th>\n",
              "      <th>market_id</th>\n",
              "      <th>created_at</th>\n",
              "      <th>actual_delivery_time</th>\n",
              "      <th>store_id</th>\n",
              "      <th>store_primary_category</th>\n",
              "      <th>order_protocol</th>\n",
              "      <th>total_items</th>\n",
              "      <th>subtotal</th>\n",
              "      <th>num_distinct_items</th>\n",
              "      <th>min_item_price</th>\n",
              "      <th>max_item_price</th>\n",
              "      <th>total_onshift_partners</th>\n",
              "      <th>total_busy_partners</th>\n",
              "      <th>total_outstanding_orders</th>\n",
              "    </tr>\n",
              "  </thead>\n",
              "  <tbody>\n",
              "    <tr>\n",
              "      <th>0</th>\n",
              "      <td>1.0</td>\n",
              "      <td>2015-02-06 22:24:17</td>\n",
              "      <td>2015-02-06 23:27:16</td>\n",
              "      <td>df263d996281d984952c07998dc54358</td>\n",
              "      <td>american</td>\n",
              "      <td>1.0</td>\n",
              "      <td>4</td>\n",
              "      <td>3441</td>\n",
              "      <td>4</td>\n",
              "      <td>557</td>\n",
              "      <td>1239</td>\n",
              "      <td>33.0</td>\n",
              "      <td>14.0</td>\n",
              "      <td>21.0</td>\n",
              "    </tr>\n",
              "    <tr>\n",
              "      <th>1</th>\n",
              "      <td>2.0</td>\n",
              "      <td>2015-02-10 21:49:25</td>\n",
              "      <td>2015-02-10 22:56:29</td>\n",
              "      <td>f0ade77b43923b38237db569b016ba25</td>\n",
              "      <td>mexican</td>\n",
              "      <td>2.0</td>\n",
              "      <td>1</td>\n",
              "      <td>1900</td>\n",
              "      <td>1</td>\n",
              "      <td>1400</td>\n",
              "      <td>1400</td>\n",
              "      <td>1.0</td>\n",
              "      <td>2.0</td>\n",
              "      <td>2.0</td>\n",
              "    </tr>\n",
              "    <tr>\n",
              "      <th>2</th>\n",
              "      <td>3.0</td>\n",
              "      <td>2015-01-22 20:39:28</td>\n",
              "      <td>2015-01-22 21:09:09</td>\n",
              "      <td>f0ade77b43923b38237db569b016ba25</td>\n",
              "      <td>NaN</td>\n",
              "      <td>1.0</td>\n",
              "      <td>1</td>\n",
              "      <td>1900</td>\n",
              "      <td>1</td>\n",
              "      <td>1900</td>\n",
              "      <td>1900</td>\n",
              "      <td>1.0</td>\n",
              "      <td>0.0</td>\n",
              "      <td>0.0</td>\n",
              "    </tr>\n",
              "    <tr>\n",
              "      <th>3</th>\n",
              "      <td>3.0</td>\n",
              "      <td>2015-02-03 21:21:45</td>\n",
              "      <td>2015-02-03 22:13:00</td>\n",
              "      <td>f0ade77b43923b38237db569b016ba25</td>\n",
              "      <td>NaN</td>\n",
              "      <td>1.0</td>\n",
              "      <td>6</td>\n",
              "      <td>6900</td>\n",
              "      <td>5</td>\n",
              "      <td>600</td>\n",
              "      <td>1800</td>\n",
              "      <td>1.0</td>\n",
              "      <td>1.0</td>\n",
              "      <td>2.0</td>\n",
              "    </tr>\n",
              "    <tr>\n",
              "      <th>4</th>\n",
              "      <td>3.0</td>\n",
              "      <td>2015-02-15 02:40:36</td>\n",
              "      <td>2015-02-15 03:20:26</td>\n",
              "      <td>f0ade77b43923b38237db569b016ba25</td>\n",
              "      <td>NaN</td>\n",
              "      <td>1.0</td>\n",
              "      <td>3</td>\n",
              "      <td>3900</td>\n",
              "      <td>3</td>\n",
              "      <td>1100</td>\n",
              "      <td>1600</td>\n",
              "      <td>6.0</td>\n",
              "      <td>6.0</td>\n",
              "      <td>9.0</td>\n",
              "    </tr>\n",
              "  </tbody>\n",
              "</table>\n",
              "</div>\n",
              "      <button class=\"colab-df-convert\" onclick=\"convertToInteractive('df-aed6eae2-6188-4b36-a469-9d38b2f714e4')\"\n",
              "              title=\"Convert this dataframe to an interactive table.\"\n",
              "              style=\"display:none;\">\n",
              "        \n",
              "  <svg xmlns=\"http://www.w3.org/2000/svg\" height=\"24px\"viewBox=\"0 0 24 24\"\n",
              "       width=\"24px\">\n",
              "    <path d=\"M0 0h24v24H0V0z\" fill=\"none\"/>\n",
              "    <path d=\"M18.56 5.44l.94 2.06.94-2.06 2.06-.94-2.06-.94-.94-2.06-.94 2.06-2.06.94zm-11 1L8.5 8.5l.94-2.06 2.06-.94-2.06-.94L8.5 2.5l-.94 2.06-2.06.94zm10 10l.94 2.06.94-2.06 2.06-.94-2.06-.94-.94-2.06-.94 2.06-2.06.94z\"/><path d=\"M17.41 7.96l-1.37-1.37c-.4-.4-.92-.59-1.43-.59-.52 0-1.04.2-1.43.59L10.3 9.45l-7.72 7.72c-.78.78-.78 2.05 0 2.83L4 21.41c.39.39.9.59 1.41.59.51 0 1.02-.2 1.41-.59l7.78-7.78 2.81-2.81c.8-.78.8-2.07 0-2.86zM5.41 20L4 18.59l7.72-7.72 1.47 1.35L5.41 20z\"/>\n",
              "  </svg>\n",
              "      </button>\n",
              "      \n",
              "  <style>\n",
              "    .colab-df-container {\n",
              "      display:flex;\n",
              "      flex-wrap:wrap;\n",
              "      gap: 12px;\n",
              "    }\n",
              "\n",
              "    .colab-df-convert {\n",
              "      background-color: #E8F0FE;\n",
              "      border: none;\n",
              "      border-radius: 50%;\n",
              "      cursor: pointer;\n",
              "      display: none;\n",
              "      fill: #1967D2;\n",
              "      height: 32px;\n",
              "      padding: 0 0 0 0;\n",
              "      width: 32px;\n",
              "    }\n",
              "\n",
              "    .colab-df-convert:hover {\n",
              "      background-color: #E2EBFA;\n",
              "      box-shadow: 0px 1px 2px rgba(60, 64, 67, 0.3), 0px 1px 3px 1px rgba(60, 64, 67, 0.15);\n",
              "      fill: #174EA6;\n",
              "    }\n",
              "\n",
              "    [theme=dark] .colab-df-convert {\n",
              "      background-color: #3B4455;\n",
              "      fill: #D2E3FC;\n",
              "    }\n",
              "\n",
              "    [theme=dark] .colab-df-convert:hover {\n",
              "      background-color: #434B5C;\n",
              "      box-shadow: 0px 1px 3px 1px rgba(0, 0, 0, 0.15);\n",
              "      filter: drop-shadow(0px 1px 2px rgba(0, 0, 0, 0.3));\n",
              "      fill: #FFFFFF;\n",
              "    }\n",
              "  </style>\n",
              "\n",
              "      <script>\n",
              "        const buttonEl =\n",
              "          document.querySelector('#df-aed6eae2-6188-4b36-a469-9d38b2f714e4 button.colab-df-convert');\n",
              "        buttonEl.style.display =\n",
              "          google.colab.kernel.accessAllowed ? 'block' : 'none';\n",
              "\n",
              "        async function convertToInteractive(key) {\n",
              "          const element = document.querySelector('#df-aed6eae2-6188-4b36-a469-9d38b2f714e4');\n",
              "          const dataTable =\n",
              "            await google.colab.kernel.invokeFunction('convertToInteractive',\n",
              "                                                     [key], {});\n",
              "          if (!dataTable) return;\n",
              "\n",
              "          const docLinkHtml = 'Like what you see? Visit the ' +\n",
              "            '<a target=\"_blank\" href=https://colab.research.google.com/notebooks/data_table.ipynb>data table notebook</a>'\n",
              "            + ' to learn more about interactive tables.';\n",
              "          element.innerHTML = '';\n",
              "          dataTable['output_type'] = 'display_data';\n",
              "          await google.colab.output.renderOutput(dataTable, element);\n",
              "          const docLink = document.createElement('div');\n",
              "          docLink.innerHTML = docLinkHtml;\n",
              "          element.appendChild(docLink);\n",
              "        }\n",
              "      </script>\n",
              "    </div>\n",
              "  </div>\n",
              "  "
            ]
          },
          "metadata": {},
          "execution_count": 3
        }
      ],
      "source": [
        "df.head()"
      ]
    },
    {
      "cell_type": "code",
      "execution_count": null,
      "metadata": {
        "colab": {
          "base_uri": "https://localhost:8080/"
        },
        "id": "qMSP68ps5Rjm",
        "outputId": "a1997dd2-9989-4685-c295-b4c70210a5f7"
      },
      "outputs": [
        {
          "output_type": "stream",
          "name": "stdout",
          "text": [
            "<class 'pandas.core.frame.DataFrame'>\n",
            "RangeIndex: 197428 entries, 0 to 197427\n",
            "Data columns (total 14 columns):\n",
            " #   Column                    Non-Null Count   Dtype  \n",
            "---  ------                    --------------   -----  \n",
            " 0   market_id                 196441 non-null  float64\n",
            " 1   created_at                197428 non-null  object \n",
            " 2   actual_delivery_time      197421 non-null  object \n",
            " 3   store_id                  197428 non-null  object \n",
            " 4   store_primary_category    192668 non-null  object \n",
            " 5   order_protocol            196433 non-null  float64\n",
            " 6   total_items               197428 non-null  int64  \n",
            " 7   subtotal                  197428 non-null  int64  \n",
            " 8   num_distinct_items        197428 non-null  int64  \n",
            " 9   min_item_price            197428 non-null  int64  \n",
            " 10  max_item_price            197428 non-null  int64  \n",
            " 11  total_onshift_partners    181166 non-null  float64\n",
            " 12  total_busy_partners       181166 non-null  float64\n",
            " 13  total_outstanding_orders  181166 non-null  float64\n",
            "dtypes: float64(5), int64(5), object(4)\n",
            "memory usage: 21.1+ MB\n"
          ]
        }
      ],
      "source": [
        "df.info()"
      ]
    },
    {
      "cell_type": "markdown",
      "metadata": {
        "id": "9jgo6Nxi5o8k"
      },
      "source": [
        "## Checking for null values"
      ]
    },
    {
      "cell_type": "code",
      "execution_count": null,
      "metadata": {
        "colab": {
          "base_uri": "https://localhost:8080/"
        },
        "id": "V3JltRBo5oD1",
        "outputId": "e5f1bf17-8945-4e8d-91c8-fd2505eab0ec"
      },
      "outputs": [
        {
          "output_type": "execute_result",
          "data": {
            "text/plain": [
              "market_id                   0.004999\n",
              "created_at                  0.000000\n",
              "actual_delivery_time        0.000035\n",
              "store_id                    0.000000\n",
              "store_primary_category      0.024110\n",
              "order_protocol              0.005040\n",
              "total_items                 0.000000\n",
              "subtotal                    0.000000\n",
              "num_distinct_items          0.000000\n",
              "min_item_price              0.000000\n",
              "max_item_price              0.000000\n",
              "total_onshift_partners      0.082369\n",
              "total_busy_partners         0.082369\n",
              "total_outstanding_orders    0.082369\n",
              "dtype: float64"
            ]
          },
          "metadata": {},
          "execution_count": 5
        }
      ],
      "source": [
        "df.isna().sum()/len(df)"
      ]
    },
    {
      "cell_type": "markdown",
      "metadata": {
        "id": "XqIeAzHhREOX"
      },
      "source": [
        "## Handling null values"
      ]
    },
    {
      "cell_type": "code",
      "execution_count": null,
      "metadata": {
        "id": "hMaEHoSJ5XK-"
      },
      "outputs": [],
      "source": [
        "df=df.loc[~df['actual_delivery_time'].isna()]"
      ]
    },
    {
      "cell_type": "code",
      "execution_count": null,
      "metadata": {
        "colab": {
          "base_uri": "https://localhost:8080/"
        },
        "id": "r5BqrXlq6KMs",
        "outputId": "dce8d368-a784-451b-a651-7dcea0e22e66"
      },
      "outputs": [
        {
          "output_type": "stream",
          "name": "stdout",
          "text": [
            "<class 'pandas.core.frame.DataFrame'>\n",
            "Int64Index: 197421 entries, 0 to 197427\n",
            "Data columns (total 14 columns):\n",
            " #   Column                    Non-Null Count   Dtype  \n",
            "---  ------                    --------------   -----  \n",
            " 0   market_id                 196434 non-null  float64\n",
            " 1   created_at                197421 non-null  object \n",
            " 2   actual_delivery_time      197421 non-null  object \n",
            " 3   store_id                  197421 non-null  object \n",
            " 4   store_primary_category    192661 non-null  object \n",
            " 5   order_protocol            196426 non-null  float64\n",
            " 6   total_items               197421 non-null  int64  \n",
            " 7   subtotal                  197421 non-null  int64  \n",
            " 8   num_distinct_items        197421 non-null  int64  \n",
            " 9   min_item_price            197421 non-null  int64  \n",
            " 10  max_item_price            197421 non-null  int64  \n",
            " 11  total_onshift_partners    181159 non-null  float64\n",
            " 12  total_busy_partners       181159 non-null  float64\n",
            " 13  total_outstanding_orders  181159 non-null  float64\n",
            "dtypes: float64(5), int64(5), object(4)\n",
            "memory usage: 22.6+ MB\n"
          ]
        }
      ],
      "source": [
        "df.info()"
      ]
    },
    {
      "cell_type": "code",
      "execution_count": null,
      "metadata": {
        "id": "3IAW2ztjRdeB"
      },
      "outputs": [],
      "source": [
        "df=df.loc[(~df['total_onshift_partners'].isna()) & (~df['total_busy_partners'].isna()) & (~df['total_outstanding_orders'].isna())]"
      ]
    },
    {
      "cell_type": "code",
      "execution_count": null,
      "metadata": {
        "colab": {
          "base_uri": "https://localhost:8080/"
        },
        "id": "mpM6ivPXSGLu",
        "outputId": "4f03bfef-cc7f-4827-f90f-caac4fb1e2d0"
      },
      "outputs": [
        {
          "output_type": "stream",
          "name": "stdout",
          "text": [
            "<class 'pandas.core.frame.DataFrame'>\n",
            "Int64Index: 181159 entries, 0 to 197427\n",
            "Data columns (total 14 columns):\n",
            " #   Column                    Non-Null Count   Dtype  \n",
            "---  ------                    --------------   -----  \n",
            " 0   market_id                 180240 non-null  float64\n",
            " 1   created_at                181159 non-null  object \n",
            " 2   actual_delivery_time      181159 non-null  object \n",
            " 3   store_id                  181159 non-null  object \n",
            " 4   store_primary_category    176944 non-null  object \n",
            " 5   order_protocol            180242 non-null  float64\n",
            " 6   total_items               181159 non-null  int64  \n",
            " 7   subtotal                  181159 non-null  int64  \n",
            " 8   num_distinct_items        181159 non-null  int64  \n",
            " 9   min_item_price            181159 non-null  int64  \n",
            " 10  max_item_price            181159 non-null  int64  \n",
            " 11  total_onshift_partners    181159 non-null  float64\n",
            " 12  total_busy_partners       181159 non-null  float64\n",
            " 13  total_outstanding_orders  181159 non-null  float64\n",
            "dtypes: float64(5), int64(5), object(4)\n",
            "memory usage: 20.7+ MB\n"
          ]
        }
      ],
      "source": [
        "df.info()"
      ]
    },
    {
      "cell_type": "code",
      "execution_count": null,
      "metadata": {
        "id": "ZzDhMrCPWNjl"
      },
      "outputs": [],
      "source": [
        "df=df.loc[~df['store_primary_category'].isna()]"
      ]
    },
    {
      "cell_type": "code",
      "execution_count": null,
      "metadata": {
        "colab": {
          "base_uri": "https://localhost:8080/"
        },
        "id": "ru5c1S-USWUc",
        "outputId": "afd51305-9dac-4b99-a513-b88055583f2f"
      },
      "outputs": [
        {
          "output_type": "stream",
          "name": "stdout",
          "text": [
            "<class 'pandas.core.frame.DataFrame'>\n",
            "Int64Index: 176944 entries, 0 to 197427\n",
            "Data columns (total 14 columns):\n",
            " #   Column                    Non-Null Count   Dtype  \n",
            "---  ------                    --------------   -----  \n",
            " 0   market_id                 176476 non-null  float64\n",
            " 1   created_at                176944 non-null  object \n",
            " 2   actual_delivery_time      176944 non-null  object \n",
            " 3   store_id                  176944 non-null  object \n",
            " 4   store_primary_category    176944 non-null  object \n",
            " 5   order_protocol            176488 non-null  float64\n",
            " 6   total_items               176944 non-null  int64  \n",
            " 7   subtotal                  176944 non-null  int64  \n",
            " 8   num_distinct_items        176944 non-null  int64  \n",
            " 9   min_item_price            176944 non-null  int64  \n",
            " 10  max_item_price            176944 non-null  int64  \n",
            " 11  total_onshift_partners    176944 non-null  float64\n",
            " 12  total_busy_partners       176944 non-null  float64\n",
            " 13  total_outstanding_orders  176944 non-null  float64\n",
            "dtypes: float64(5), int64(5), object(4)\n",
            "memory usage: 20.2+ MB\n"
          ]
        }
      ],
      "source": [
        "df.info()"
      ]
    },
    {
      "cell_type": "code",
      "execution_count": null,
      "metadata": {
        "id": "R570QZEfTXCA"
      },
      "outputs": [],
      "source": [
        "df=df.loc[~df['market_id'].isna()]"
      ]
    },
    {
      "cell_type": "code",
      "execution_count": null,
      "metadata": {
        "colab": {
          "base_uri": "https://localhost:8080/"
        },
        "id": "zlovb_TbWmRC",
        "outputId": "cb601235-e7e0-4b70-ead6-af12e8ecc90e"
      },
      "outputs": [
        {
          "output_type": "stream",
          "name": "stdout",
          "text": [
            "<class 'pandas.core.frame.DataFrame'>\n",
            "Int64Index: 176476 entries, 0 to 197427\n",
            "Data columns (total 14 columns):\n",
            " #   Column                    Non-Null Count   Dtype  \n",
            "---  ------                    --------------   -----  \n",
            " 0   market_id                 176476 non-null  float64\n",
            " 1   created_at                176476 non-null  object \n",
            " 2   actual_delivery_time      176476 non-null  object \n",
            " 3   store_id                  176476 non-null  object \n",
            " 4   store_primary_category    176476 non-null  object \n",
            " 5   order_protocol            176248 non-null  float64\n",
            " 6   total_items               176476 non-null  int64  \n",
            " 7   subtotal                  176476 non-null  int64  \n",
            " 8   num_distinct_items        176476 non-null  int64  \n",
            " 9   min_item_price            176476 non-null  int64  \n",
            " 10  max_item_price            176476 non-null  int64  \n",
            " 11  total_onshift_partners    176476 non-null  float64\n",
            " 12  total_busy_partners       176476 non-null  float64\n",
            " 13  total_outstanding_orders  176476 non-null  float64\n",
            "dtypes: float64(5), int64(5), object(4)\n",
            "memory usage: 20.2+ MB\n"
          ]
        }
      ],
      "source": [
        "df.info()"
      ]
    },
    {
      "cell_type": "code",
      "execution_count": null,
      "metadata": {
        "colab": {
          "base_uri": "https://localhost:8080/"
        },
        "id": "5tYMPg0QWwI3",
        "outputId": "7a60849a-39c0-4565-d77f-fc5135db07e0"
      },
      "outputs": [
        {
          "output_type": "execute_result",
          "data": {
            "text/plain": [
              "1.0    48518\n",
              "3.0    47271\n",
              "5.0    41509\n",
              "2.0    20958\n",
              "4.0    17292\n",
              "6.0      681\n",
              "NaN      228\n",
              "7.0       19\n",
              "Name: order_protocol, dtype: int64"
            ]
          },
          "metadata": {},
          "execution_count": 14
        }
      ],
      "source": [
        "df['order_protocol'].value_counts(dropna=False)"
      ]
    },
    {
      "cell_type": "code",
      "execution_count": null,
      "metadata": {
        "id": "t3bZbK9iW2IU"
      },
      "outputs": [],
      "source": [
        "df.loc[df['order_protocol'].isna(),['order_protocol']]=0.0"
      ]
    },
    {
      "cell_type": "code",
      "execution_count": null,
      "metadata": {
        "colab": {
          "base_uri": "https://localhost:8080/"
        },
        "id": "szhrkGsnXEHM",
        "outputId": "68b7bea1-31f3-4dd9-8dea-162a030e91f0"
      },
      "outputs": [
        {
          "output_type": "stream",
          "name": "stdout",
          "text": [
            "<class 'pandas.core.frame.DataFrame'>\n",
            "Int64Index: 176476 entries, 0 to 197427\n",
            "Data columns (total 14 columns):\n",
            " #   Column                    Non-Null Count   Dtype  \n",
            "---  ------                    --------------   -----  \n",
            " 0   market_id                 176476 non-null  float64\n",
            " 1   created_at                176476 non-null  object \n",
            " 2   actual_delivery_time      176476 non-null  object \n",
            " 3   store_id                  176476 non-null  object \n",
            " 4   store_primary_category    176476 non-null  object \n",
            " 5   order_protocol            176476 non-null  float64\n",
            " 6   total_items               176476 non-null  int64  \n",
            " 7   subtotal                  176476 non-null  int64  \n",
            " 8   num_distinct_items        176476 non-null  int64  \n",
            " 9   min_item_price            176476 non-null  int64  \n",
            " 10  max_item_price            176476 non-null  int64  \n",
            " 11  total_onshift_partners    176476 non-null  float64\n",
            " 12  total_busy_partners       176476 non-null  float64\n",
            " 13  total_outstanding_orders  176476 non-null  float64\n",
            "dtypes: float64(5), int64(5), object(4)\n",
            "memory usage: 20.2+ MB\n"
          ]
        }
      ],
      "source": [
        "df.info()"
      ]
    },
    {
      "cell_type": "markdown",
      "metadata": {
        "id": "Ko6ijQ_dhlVc"
      },
      "source": [
        "## Conversion to appropriate to data types"
      ]
    },
    {
      "cell_type": "code",
      "execution_count": null,
      "metadata": {
        "colab": {
          "base_uri": "https://localhost:8080/"
        },
        "id": "86io8B-KhlBo",
        "outputId": "aec4ff05-fe72-49b9-a2f9-5d341db5e212"
      },
      "outputs": [
        {
          "output_type": "execute_result",
          "data": {
            "text/plain": [
              "2.0    53697\n",
              "4.0    46425\n",
              "1.0    37248\n",
              "3.0    21145\n",
              "5.0    17321\n",
              "6.0      640\n",
              "Name: market_id, dtype: int64"
            ]
          },
          "metadata": {},
          "execution_count": 17
        }
      ],
      "source": [
        "df['market_id'].value_counts()"
      ]
    },
    {
      "cell_type": "code",
      "execution_count": null,
      "metadata": {
        "id": "kjI0vYyFhbc2"
      },
      "outputs": [],
      "source": [
        "df['market_id']=df['market_id'].astype('object')"
      ]
    },
    {
      "cell_type": "code",
      "execution_count": null,
      "metadata": {
        "id": "EXeis2RYh-Ab"
      },
      "outputs": [],
      "source": [
        "df[[\"created_at\", \"actual_delivery_time\"]] = df[[\"created_at\", \"actual_delivery_time\"]].apply(pd.to_datetime)"
      ]
    },
    {
      "cell_type": "code",
      "execution_count": null,
      "metadata": {
        "colab": {
          "base_uri": "https://localhost:8080/"
        },
        "id": "-KBRW5ktiM4B",
        "outputId": "ea8c3882-d4e4-4967-c370-94f9d4839581"
      },
      "outputs": [
        {
          "output_type": "execute_result",
          "data": {
            "text/plain": [
              "1.0    48518\n",
              "3.0    47271\n",
              "5.0    41509\n",
              "2.0    20958\n",
              "4.0    17292\n",
              "6.0      681\n",
              "0.0      228\n",
              "7.0       19\n",
              "Name: order_protocol, dtype: int64"
            ]
          },
          "metadata": {},
          "execution_count": 20
        }
      ],
      "source": [
        "\n",
        "df['order_protocol'].value_counts()"
      ]
    },
    {
      "cell_type": "code",
      "execution_count": null,
      "metadata": {
        "id": "sJIyBi7_iuiT"
      },
      "outputs": [],
      "source": [
        "df['order_protocol']=df['order_protocol'].astype('object')"
      ]
    },
    {
      "cell_type": "markdown",
      "metadata": {
        "id": "KbxCFmimmYoR"
      },
      "source": [
        "## Feature Engineering"
      ]
    },
    {
      "cell_type": "code",
      "execution_count": null,
      "metadata": {
        "id": "EXJxfxjIk5WJ"
      },
      "outputs": [],
      "source": [
        "df['delivery_time_taken_mins']=((df['actual_delivery_time'] - df['created_at']).dt.total_seconds() / 60).apply(np.ceil)"
      ]
    },
    {
      "cell_type": "code",
      "execution_count": null,
      "metadata": {
        "id": "XVp-dazrnDhA"
      },
      "outputs": [],
      "source": [
        "df['weekday']=df['created_at'].dt.strftime('%A')"
      ]
    },
    {
      "cell_type": "code",
      "execution_count": null,
      "metadata": {
        "id": "0oWEh_fiodnN"
      },
      "outputs": [],
      "source": [
        "df['hour']=df['created_at'].dt.hour"
      ]
    },
    {
      "cell_type": "code",
      "execution_count": null,
      "metadata": {
        "id": "ktRM4JEAUN_B"
      },
      "outputs": [],
      "source": [
        "df['hour']=df['hour'].astype('object')"
      ]
    },
    {
      "cell_type": "code",
      "execution_count": null,
      "metadata": {
        "id": "J__kG1HSaGV-"
      },
      "outputs": [],
      "source": [
        "df.drop(columns=['store_id'],inplace=True)"
      ]
    },
    {
      "cell_type": "code",
      "execution_count": null,
      "metadata": {
        "colab": {
          "base_uri": "https://localhost:8080/",
          "height": 573
        },
        "id": "WBQeBYuK4j88",
        "outputId": "1cd444f7-ad1e-46c5-ab49-effbf55dbcf5"
      },
      "outputs": [
        {
          "output_type": "execute_result",
          "data": {
            "text/plain": [
              "        market_id           created_at actual_delivery_time  \\\n",
              "count    176476.0               176476               176476   \n",
              "unique        6.0               163278               160879   \n",
              "top           2.0  2015-02-11 19:50:43  2015-02-01 03:44:13   \n",
              "freq      53697.0                    6                    5   \n",
              "first         NaN  2015-01-21 15:22:03  2015-01-21 16:16:34   \n",
              "last          NaN  2015-02-18 06:00:44  2015-02-19 22:45:31   \n",
              "mean          NaN                  NaN                  NaN   \n",
              "std           NaN                  NaN                  NaN   \n",
              "min           NaN                  NaN                  NaN   \n",
              "25%           NaN                  NaN                  NaN   \n",
              "50%           NaN                  NaN                  NaN   \n",
              "75%           NaN                  NaN                  NaN   \n",
              "max           NaN                  NaN                  NaN   \n",
              "\n",
              "       store_primary_category  order_protocol    total_items       subtotal  \\\n",
              "count                  176476        176476.0  176476.000000  176476.000000   \n",
              "unique                     73             8.0            NaN            NaN   \n",
              "top                  american             1.0            NaN            NaN   \n",
              "freq                    18249         48518.0            NaN            NaN   \n",
              "first                     NaN             NaN            NaN            NaN   \n",
              "last                      NaN             NaN            NaN            NaN   \n",
              "mean                      NaN             NaN       3.204436    2696.563992   \n",
              "std                       NaN             NaN       2.673124    1828.893959   \n",
              "min                       NaN             NaN       1.000000       0.000000   \n",
              "25%                       NaN             NaN       2.000000    1408.000000   \n",
              "50%                       NaN             NaN       3.000000    2221.000000   \n",
              "75%                       NaN             NaN       4.000000    3408.000000   \n",
              "max                       NaN             NaN     411.000000   26800.000000   \n",
              "\n",
              "        num_distinct_items  min_item_price  max_item_price  \\\n",
              "count        176476.000000   176476.000000   176476.000000   \n",
              "unique                 NaN             NaN             NaN   \n",
              "top                    NaN             NaN             NaN   \n",
              "freq                   NaN             NaN             NaN   \n",
              "first                  NaN             NaN             NaN   \n",
              "last                   NaN             NaN             NaN   \n",
              "mean              2.674528      684.965933     1159.920669   \n",
              "std               1.625393      519.951007      560.799371   \n",
              "min               1.000000      -86.000000        0.000000   \n",
              "25%               1.000000      299.000000      799.000000   \n",
              "50%               2.000000      595.000000     1095.000000   \n",
              "75%               3.000000      942.000000     1395.000000   \n",
              "max              20.000000    14700.000000    14700.000000   \n",
              "\n",
              "        total_onshift_partners  total_busy_partners  total_outstanding_orders  \\\n",
              "count            176476.000000        176476.000000             176476.000000   \n",
              "unique                     NaN                  NaN                       NaN   \n",
              "top                        NaN                  NaN                       NaN   \n",
              "freq                       NaN                  NaN                       NaN   \n",
              "first                      NaN                  NaN                       NaN   \n",
              "last                       NaN                  NaN                       NaN   \n",
              "mean                 44.908072            41.846755                 58.210085   \n",
              "std                  34.531681            32.156344                 52.711660   \n",
              "min                  -4.000000            -5.000000                 -6.000000   \n",
              "25%                  17.000000            15.000000                 17.000000   \n",
              "50%                  37.000000            35.000000                 41.000000   \n",
              "75%                  65.000000            62.000000                 85.000000   \n",
              "max                 171.000000           154.000000                285.000000   \n",
              "\n",
              "        delivery_time_taken_mins   weekday      hour  \n",
              "count              176476.000000    176476  176476.0  \n",
              "unique                       NaN         7      19.0  \n",
              "top                          NaN  Saturday       2.0  \n",
              "freq                         NaN     30897   32991.0  \n",
              "first                        NaN       NaN       NaN  \n",
              "last                         NaN       NaN       NaN  \n",
              "mean                   48.258052       NaN       NaN  \n",
              "std                    27.645537       NaN       NaN  \n",
              "min                     2.000000       NaN       NaN  \n",
              "25%                    36.000000       NaN       NaN  \n",
              "50%                    45.000000       NaN       NaN  \n",
              "75%                    57.000000       NaN       NaN  \n",
              "max                  6232.000000       NaN       NaN  "
            ],
            "text/html": [
              "\n",
              "  <div id=\"df-306ea160-6241-4bfa-bbc5-499988218c11\">\n",
              "    <div class=\"colab-df-container\">\n",
              "      <div>\n",
              "<style scoped>\n",
              "    .dataframe tbody tr th:only-of-type {\n",
              "        vertical-align: middle;\n",
              "    }\n",
              "\n",
              "    .dataframe tbody tr th {\n",
              "        vertical-align: top;\n",
              "    }\n",
              "\n",
              "    .dataframe thead th {\n",
              "        text-align: right;\n",
              "    }\n",
              "</style>\n",
              "<table border=\"1\" class=\"dataframe\">\n",
              "  <thead>\n",
              "    <tr style=\"text-align: right;\">\n",
              "      <th></th>\n",
              "      <th>market_id</th>\n",
              "      <th>created_at</th>\n",
              "      <th>actual_delivery_time</th>\n",
              "      <th>store_primary_category</th>\n",
              "      <th>order_protocol</th>\n",
              "      <th>total_items</th>\n",
              "      <th>subtotal</th>\n",
              "      <th>num_distinct_items</th>\n",
              "      <th>min_item_price</th>\n",
              "      <th>max_item_price</th>\n",
              "      <th>total_onshift_partners</th>\n",
              "      <th>total_busy_partners</th>\n",
              "      <th>total_outstanding_orders</th>\n",
              "      <th>delivery_time_taken_mins</th>\n",
              "      <th>weekday</th>\n",
              "      <th>hour</th>\n",
              "    </tr>\n",
              "  </thead>\n",
              "  <tbody>\n",
              "    <tr>\n",
              "      <th>count</th>\n",
              "      <td>176476.0</td>\n",
              "      <td>176476</td>\n",
              "      <td>176476</td>\n",
              "      <td>176476</td>\n",
              "      <td>176476.0</td>\n",
              "      <td>176476.000000</td>\n",
              "      <td>176476.000000</td>\n",
              "      <td>176476.000000</td>\n",
              "      <td>176476.000000</td>\n",
              "      <td>176476.000000</td>\n",
              "      <td>176476.000000</td>\n",
              "      <td>176476.000000</td>\n",
              "      <td>176476.000000</td>\n",
              "      <td>176476.000000</td>\n",
              "      <td>176476</td>\n",
              "      <td>176476.0</td>\n",
              "    </tr>\n",
              "    <tr>\n",
              "      <th>unique</th>\n",
              "      <td>6.0</td>\n",
              "      <td>163278</td>\n",
              "      <td>160879</td>\n",
              "      <td>73</td>\n",
              "      <td>8.0</td>\n",
              "      <td>NaN</td>\n",
              "      <td>NaN</td>\n",
              "      <td>NaN</td>\n",
              "      <td>NaN</td>\n",
              "      <td>NaN</td>\n",
              "      <td>NaN</td>\n",
              "      <td>NaN</td>\n",
              "      <td>NaN</td>\n",
              "      <td>NaN</td>\n",
              "      <td>7</td>\n",
              "      <td>19.0</td>\n",
              "    </tr>\n",
              "    <tr>\n",
              "      <th>top</th>\n",
              "      <td>2.0</td>\n",
              "      <td>2015-02-11 19:50:43</td>\n",
              "      <td>2015-02-01 03:44:13</td>\n",
              "      <td>american</td>\n",
              "      <td>1.0</td>\n",
              "      <td>NaN</td>\n",
              "      <td>NaN</td>\n",
              "      <td>NaN</td>\n",
              "      <td>NaN</td>\n",
              "      <td>NaN</td>\n",
              "      <td>NaN</td>\n",
              "      <td>NaN</td>\n",
              "      <td>NaN</td>\n",
              "      <td>NaN</td>\n",
              "      <td>Saturday</td>\n",
              "      <td>2.0</td>\n",
              "    </tr>\n",
              "    <tr>\n",
              "      <th>freq</th>\n",
              "      <td>53697.0</td>\n",
              "      <td>6</td>\n",
              "      <td>5</td>\n",
              "      <td>18249</td>\n",
              "      <td>48518.0</td>\n",
              "      <td>NaN</td>\n",
              "      <td>NaN</td>\n",
              "      <td>NaN</td>\n",
              "      <td>NaN</td>\n",
              "      <td>NaN</td>\n",
              "      <td>NaN</td>\n",
              "      <td>NaN</td>\n",
              "      <td>NaN</td>\n",
              "      <td>NaN</td>\n",
              "      <td>30897</td>\n",
              "      <td>32991.0</td>\n",
              "    </tr>\n",
              "    <tr>\n",
              "      <th>first</th>\n",
              "      <td>NaN</td>\n",
              "      <td>2015-01-21 15:22:03</td>\n",
              "      <td>2015-01-21 16:16:34</td>\n",
              "      <td>NaN</td>\n",
              "      <td>NaN</td>\n",
              "      <td>NaN</td>\n",
              "      <td>NaN</td>\n",
              "      <td>NaN</td>\n",
              "      <td>NaN</td>\n",
              "      <td>NaN</td>\n",
              "      <td>NaN</td>\n",
              "      <td>NaN</td>\n",
              "      <td>NaN</td>\n",
              "      <td>NaN</td>\n",
              "      <td>NaN</td>\n",
              "      <td>NaN</td>\n",
              "    </tr>\n",
              "    <tr>\n",
              "      <th>last</th>\n",
              "      <td>NaN</td>\n",
              "      <td>2015-02-18 06:00:44</td>\n",
              "      <td>2015-02-19 22:45:31</td>\n",
              "      <td>NaN</td>\n",
              "      <td>NaN</td>\n",
              "      <td>NaN</td>\n",
              "      <td>NaN</td>\n",
              "      <td>NaN</td>\n",
              "      <td>NaN</td>\n",
              "      <td>NaN</td>\n",
              "      <td>NaN</td>\n",
              "      <td>NaN</td>\n",
              "      <td>NaN</td>\n",
              "      <td>NaN</td>\n",
              "      <td>NaN</td>\n",
              "      <td>NaN</td>\n",
              "    </tr>\n",
              "    <tr>\n",
              "      <th>mean</th>\n",
              "      <td>NaN</td>\n",
              "      <td>NaN</td>\n",
              "      <td>NaN</td>\n",
              "      <td>NaN</td>\n",
              "      <td>NaN</td>\n",
              "      <td>3.204436</td>\n",
              "      <td>2696.563992</td>\n",
              "      <td>2.674528</td>\n",
              "      <td>684.965933</td>\n",
              "      <td>1159.920669</td>\n",
              "      <td>44.908072</td>\n",
              "      <td>41.846755</td>\n",
              "      <td>58.210085</td>\n",
              "      <td>48.258052</td>\n",
              "      <td>NaN</td>\n",
              "      <td>NaN</td>\n",
              "    </tr>\n",
              "    <tr>\n",
              "      <th>std</th>\n",
              "      <td>NaN</td>\n",
              "      <td>NaN</td>\n",
              "      <td>NaN</td>\n",
              "      <td>NaN</td>\n",
              "      <td>NaN</td>\n",
              "      <td>2.673124</td>\n",
              "      <td>1828.893959</td>\n",
              "      <td>1.625393</td>\n",
              "      <td>519.951007</td>\n",
              "      <td>560.799371</td>\n",
              "      <td>34.531681</td>\n",
              "      <td>32.156344</td>\n",
              "      <td>52.711660</td>\n",
              "      <td>27.645537</td>\n",
              "      <td>NaN</td>\n",
              "      <td>NaN</td>\n",
              "    </tr>\n",
              "    <tr>\n",
              "      <th>min</th>\n",
              "      <td>NaN</td>\n",
              "      <td>NaN</td>\n",
              "      <td>NaN</td>\n",
              "      <td>NaN</td>\n",
              "      <td>NaN</td>\n",
              "      <td>1.000000</td>\n",
              "      <td>0.000000</td>\n",
              "      <td>1.000000</td>\n",
              "      <td>-86.000000</td>\n",
              "      <td>0.000000</td>\n",
              "      <td>-4.000000</td>\n",
              "      <td>-5.000000</td>\n",
              "      <td>-6.000000</td>\n",
              "      <td>2.000000</td>\n",
              "      <td>NaN</td>\n",
              "      <td>NaN</td>\n",
              "    </tr>\n",
              "    <tr>\n",
              "      <th>25%</th>\n",
              "      <td>NaN</td>\n",
              "      <td>NaN</td>\n",
              "      <td>NaN</td>\n",
              "      <td>NaN</td>\n",
              "      <td>NaN</td>\n",
              "      <td>2.000000</td>\n",
              "      <td>1408.000000</td>\n",
              "      <td>1.000000</td>\n",
              "      <td>299.000000</td>\n",
              "      <td>799.000000</td>\n",
              "      <td>17.000000</td>\n",
              "      <td>15.000000</td>\n",
              "      <td>17.000000</td>\n",
              "      <td>36.000000</td>\n",
              "      <td>NaN</td>\n",
              "      <td>NaN</td>\n",
              "    </tr>\n",
              "    <tr>\n",
              "      <th>50%</th>\n",
              "      <td>NaN</td>\n",
              "      <td>NaN</td>\n",
              "      <td>NaN</td>\n",
              "      <td>NaN</td>\n",
              "      <td>NaN</td>\n",
              "      <td>3.000000</td>\n",
              "      <td>2221.000000</td>\n",
              "      <td>2.000000</td>\n",
              "      <td>595.000000</td>\n",
              "      <td>1095.000000</td>\n",
              "      <td>37.000000</td>\n",
              "      <td>35.000000</td>\n",
              "      <td>41.000000</td>\n",
              "      <td>45.000000</td>\n",
              "      <td>NaN</td>\n",
              "      <td>NaN</td>\n",
              "    </tr>\n",
              "    <tr>\n",
              "      <th>75%</th>\n",
              "      <td>NaN</td>\n",
              "      <td>NaN</td>\n",
              "      <td>NaN</td>\n",
              "      <td>NaN</td>\n",
              "      <td>NaN</td>\n",
              "      <td>4.000000</td>\n",
              "      <td>3408.000000</td>\n",
              "      <td>3.000000</td>\n",
              "      <td>942.000000</td>\n",
              "      <td>1395.000000</td>\n",
              "      <td>65.000000</td>\n",
              "      <td>62.000000</td>\n",
              "      <td>85.000000</td>\n",
              "      <td>57.000000</td>\n",
              "      <td>NaN</td>\n",
              "      <td>NaN</td>\n",
              "    </tr>\n",
              "    <tr>\n",
              "      <th>max</th>\n",
              "      <td>NaN</td>\n",
              "      <td>NaN</td>\n",
              "      <td>NaN</td>\n",
              "      <td>NaN</td>\n",
              "      <td>NaN</td>\n",
              "      <td>411.000000</td>\n",
              "      <td>26800.000000</td>\n",
              "      <td>20.000000</td>\n",
              "      <td>14700.000000</td>\n",
              "      <td>14700.000000</td>\n",
              "      <td>171.000000</td>\n",
              "      <td>154.000000</td>\n",
              "      <td>285.000000</td>\n",
              "      <td>6232.000000</td>\n",
              "      <td>NaN</td>\n",
              "      <td>NaN</td>\n",
              "    </tr>\n",
              "  </tbody>\n",
              "</table>\n",
              "</div>\n",
              "      <button class=\"colab-df-convert\" onclick=\"convertToInteractive('df-306ea160-6241-4bfa-bbc5-499988218c11')\"\n",
              "              title=\"Convert this dataframe to an interactive table.\"\n",
              "              style=\"display:none;\">\n",
              "        \n",
              "  <svg xmlns=\"http://www.w3.org/2000/svg\" height=\"24px\"viewBox=\"0 0 24 24\"\n",
              "       width=\"24px\">\n",
              "    <path d=\"M0 0h24v24H0V0z\" fill=\"none\"/>\n",
              "    <path d=\"M18.56 5.44l.94 2.06.94-2.06 2.06-.94-2.06-.94-.94-2.06-.94 2.06-2.06.94zm-11 1L8.5 8.5l.94-2.06 2.06-.94-2.06-.94L8.5 2.5l-.94 2.06-2.06.94zm10 10l.94 2.06.94-2.06 2.06-.94-2.06-.94-.94-2.06-.94 2.06-2.06.94z\"/><path d=\"M17.41 7.96l-1.37-1.37c-.4-.4-.92-.59-1.43-.59-.52 0-1.04.2-1.43.59L10.3 9.45l-7.72 7.72c-.78.78-.78 2.05 0 2.83L4 21.41c.39.39.9.59 1.41.59.51 0 1.02-.2 1.41-.59l7.78-7.78 2.81-2.81c.8-.78.8-2.07 0-2.86zM5.41 20L4 18.59l7.72-7.72 1.47 1.35L5.41 20z\"/>\n",
              "  </svg>\n",
              "      </button>\n",
              "      \n",
              "  <style>\n",
              "    .colab-df-container {\n",
              "      display:flex;\n",
              "      flex-wrap:wrap;\n",
              "      gap: 12px;\n",
              "    }\n",
              "\n",
              "    .colab-df-convert {\n",
              "      background-color: #E8F0FE;\n",
              "      border: none;\n",
              "      border-radius: 50%;\n",
              "      cursor: pointer;\n",
              "      display: none;\n",
              "      fill: #1967D2;\n",
              "      height: 32px;\n",
              "      padding: 0 0 0 0;\n",
              "      width: 32px;\n",
              "    }\n",
              "\n",
              "    .colab-df-convert:hover {\n",
              "      background-color: #E2EBFA;\n",
              "      box-shadow: 0px 1px 2px rgba(60, 64, 67, 0.3), 0px 1px 3px 1px rgba(60, 64, 67, 0.15);\n",
              "      fill: #174EA6;\n",
              "    }\n",
              "\n",
              "    [theme=dark] .colab-df-convert {\n",
              "      background-color: #3B4455;\n",
              "      fill: #D2E3FC;\n",
              "    }\n",
              "\n",
              "    [theme=dark] .colab-df-convert:hover {\n",
              "      background-color: #434B5C;\n",
              "      box-shadow: 0px 1px 3px 1px rgba(0, 0, 0, 0.15);\n",
              "      filter: drop-shadow(0px 1px 2px rgba(0, 0, 0, 0.3));\n",
              "      fill: #FFFFFF;\n",
              "    }\n",
              "  </style>\n",
              "\n",
              "      <script>\n",
              "        const buttonEl =\n",
              "          document.querySelector('#df-306ea160-6241-4bfa-bbc5-499988218c11 button.colab-df-convert');\n",
              "        buttonEl.style.display =\n",
              "          google.colab.kernel.accessAllowed ? 'block' : 'none';\n",
              "\n",
              "        async function convertToInteractive(key) {\n",
              "          const element = document.querySelector('#df-306ea160-6241-4bfa-bbc5-499988218c11');\n",
              "          const dataTable =\n",
              "            await google.colab.kernel.invokeFunction('convertToInteractive',\n",
              "                                                     [key], {});\n",
              "          if (!dataTable) return;\n",
              "\n",
              "          const docLinkHtml = 'Like what you see? Visit the ' +\n",
              "            '<a target=\"_blank\" href=https://colab.research.google.com/notebooks/data_table.ipynb>data table notebook</a>'\n",
              "            + ' to learn more about interactive tables.';\n",
              "          element.innerHTML = '';\n",
              "          dataTable['output_type'] = 'display_data';\n",
              "          await google.colab.output.renderOutput(dataTable, element);\n",
              "          const docLink = document.createElement('div');\n",
              "          docLink.innerHTML = docLinkHtml;\n",
              "          element.appendChild(docLink);\n",
              "        }\n",
              "      </script>\n",
              "    </div>\n",
              "  </div>\n",
              "  "
            ]
          },
          "metadata": {},
          "execution_count": 27
        }
      ],
      "source": [
        "df.describe(include='all')"
      ]
    },
    {
      "cell_type": "code",
      "execution_count": null,
      "metadata": {
        "id": "UBtsHOSg68u2"
      },
      "outputs": [],
      "source": [
        "df.loc[df['min_item_price']<=0,['min_item_price']]=0"
      ]
    },
    {
      "cell_type": "code",
      "execution_count": null,
      "metadata": {
        "id": "Z_5D_ORd8Kj1"
      },
      "outputs": [],
      "source": [
        "df['discount_coupon_applied']=0"
      ]
    },
    {
      "cell_type": "code",
      "execution_count": null,
      "metadata": {
        "id": "vc_ZsL498Xbl"
      },
      "outputs": [],
      "source": [
        "df.loc[df['min_item_price']==0,['discount_coupon_applied']]=1"
      ]
    },
    {
      "cell_type": "code",
      "execution_count": null,
      "metadata": {
        "id": "YF_YOscM8cIs"
      },
      "outputs": [],
      "source": [
        "df['discount_coupon_applied']=df['discount_coupon_applied'].astype('object')"
      ]
    },
    {
      "cell_type": "code",
      "execution_count": null,
      "metadata": {
        "colab": {
          "base_uri": "https://localhost:8080/"
        },
        "id": "uM1LPkIyphsF",
        "outputId": "bdf25ee8-23fe-4c20-9287-34864aadfc4a"
      },
      "outputs": [
        {
          "output_type": "stream",
          "name": "stdout",
          "text": [
            "<class 'pandas.core.frame.DataFrame'>\n",
            "Int64Index: 176476 entries, 0 to 197427\n",
            "Data columns (total 17 columns):\n",
            " #   Column                    Non-Null Count   Dtype         \n",
            "---  ------                    --------------   -----         \n",
            " 0   market_id                 176476 non-null  object        \n",
            " 1   created_at                176476 non-null  datetime64[ns]\n",
            " 2   actual_delivery_time      176476 non-null  datetime64[ns]\n",
            " 3   store_primary_category    176476 non-null  object        \n",
            " 4   order_protocol            176476 non-null  object        \n",
            " 5   total_items               176476 non-null  int64         \n",
            " 6   subtotal                  176476 non-null  int64         \n",
            " 7   num_distinct_items        176476 non-null  int64         \n",
            " 8   min_item_price            176476 non-null  int64         \n",
            " 9   max_item_price            176476 non-null  int64         \n",
            " 10  total_onshift_partners    176476 non-null  float64       \n",
            " 11  total_busy_partners       176476 non-null  float64       \n",
            " 12  total_outstanding_orders  176476 non-null  float64       \n",
            " 13  delivery_time_taken_mins  176476 non-null  float64       \n",
            " 14  weekday                   176476 non-null  object        \n",
            " 15  hour                      176476 non-null  object        \n",
            " 16  discount_coupon_applied   176476 non-null  object        \n",
            "dtypes: datetime64[ns](2), float64(4), int64(5), object(6)\n",
            "memory usage: 24.2+ MB\n"
          ]
        }
      ],
      "source": [
        "df.info()"
      ]
    },
    {
      "cell_type": "code",
      "execution_count": null,
      "metadata": {
        "id": "krOmA9NJ8_xe"
      },
      "outputs": [],
      "source": [
        "cols=df.columns"
      ]
    },
    {
      "cell_type": "code",
      "execution_count": null,
      "metadata": {
        "id": "tmnDFk7g9C0l"
      },
      "outputs": [],
      "source": [
        "X_cols=list(filter(lambda x:x!='delivery_time_taken_mins',cols))"
      ]
    },
    {
      "cell_type": "code",
      "execution_count": null,
      "metadata": {
        "id": "pYCyU86sAIrS"
      },
      "outputs": [],
      "source": [
        "X_cols.append('delivery_time_taken_mins')"
      ]
    },
    {
      "cell_type": "code",
      "execution_count": null,
      "metadata": {
        "colab": {
          "base_uri": "https://localhost:8080/"
        },
        "id": "MzrqBiKGAIoa",
        "outputId": "4b2b965a-2466-4672-cb02-48e2640e2bb1"
      },
      "outputs": [
        {
          "output_type": "execute_result",
          "data": {
            "text/plain": [
              "['market_id',\n",
              " 'created_at',\n",
              " 'actual_delivery_time',\n",
              " 'store_primary_category',\n",
              " 'order_protocol',\n",
              " 'total_items',\n",
              " 'subtotal',\n",
              " 'num_distinct_items',\n",
              " 'min_item_price',\n",
              " 'max_item_price',\n",
              " 'total_onshift_partners',\n",
              " 'total_busy_partners',\n",
              " 'total_outstanding_orders',\n",
              " 'weekday',\n",
              " 'hour',\n",
              " 'discount_coupon_applied',\n",
              " 'delivery_time_taken_mins']"
            ]
          },
          "metadata": {},
          "execution_count": 36
        }
      ],
      "source": [
        "X_cols"
      ]
    },
    {
      "cell_type": "code",
      "execution_count": null,
      "metadata": {
        "id": "j9HkJbJbAIl6"
      },
      "outputs": [],
      "source": [
        "df=df[X_cols]"
      ]
    },
    {
      "cell_type": "code",
      "execution_count": null,
      "metadata": {
        "colab": {
          "base_uri": "https://localhost:8080/",
          "height": 357
        },
        "id": "nzjd6oyWAIjV",
        "outputId": "9faa30ea-e07a-4c70-a10c-58cfcf83b127"
      },
      "outputs": [
        {
          "output_type": "execute_result",
          "data": {
            "text/plain": [
              "   market_id          created_at actual_delivery_time store_primary_category  \\\n",
              "0        1.0 2015-02-06 22:24:17  2015-02-06 23:27:16               american   \n",
              "1        2.0 2015-02-10 21:49:25  2015-02-10 22:56:29                mexican   \n",
              "8        2.0 2015-02-16 00:11:35  2015-02-16 00:38:01                 indian   \n",
              "14       1.0 2015-02-12 03:36:46  2015-02-12 04:14:39                italian   \n",
              "15       1.0 2015-01-27 02:12:36  2015-01-27 03:02:24                italian   \n",
              "\n",
              "   order_protocol  total_items  subtotal  num_distinct_items  min_item_price  \\\n",
              "0             1.0            4      3441                   4             557   \n",
              "1             2.0            1      1900                   1            1400   \n",
              "8             3.0            4      4771                   3             820   \n",
              "14            1.0            1      1525                   1            1525   \n",
              "15            1.0            2      3620                   2            1425   \n",
              "\n",
              "    max_item_price  total_onshift_partners  total_busy_partners  \\\n",
              "0             1239                    33.0                 14.0   \n",
              "1             1400                     1.0                  2.0   \n",
              "8             1604                     8.0                  6.0   \n",
              "14            1525                     5.0                  6.0   \n",
              "15            2195                     5.0                  5.0   \n",
              "\n",
              "    total_outstanding_orders   weekday hour discount_coupon_applied  \\\n",
              "0                       21.0    Friday   22                       0   \n",
              "1                        2.0   Tuesday   21                       0   \n",
              "8                       18.0    Monday    0                       0   \n",
              "14                       8.0  Thursday    3                       0   \n",
              "15                       7.0   Tuesday    2                       0   \n",
              "\n",
              "    delivery_time_taken_mins  \n",
              "0                       63.0  \n",
              "1                       68.0  \n",
              "8                       27.0  \n",
              "14                      38.0  \n",
              "15                      50.0  "
            ],
            "text/html": [
              "\n",
              "  <div id=\"df-e85e586c-129b-43bb-9bf9-48416abf0052\">\n",
              "    <div class=\"colab-df-container\">\n",
              "      <div>\n",
              "<style scoped>\n",
              "    .dataframe tbody tr th:only-of-type {\n",
              "        vertical-align: middle;\n",
              "    }\n",
              "\n",
              "    .dataframe tbody tr th {\n",
              "        vertical-align: top;\n",
              "    }\n",
              "\n",
              "    .dataframe thead th {\n",
              "        text-align: right;\n",
              "    }\n",
              "</style>\n",
              "<table border=\"1\" class=\"dataframe\">\n",
              "  <thead>\n",
              "    <tr style=\"text-align: right;\">\n",
              "      <th></th>\n",
              "      <th>market_id</th>\n",
              "      <th>created_at</th>\n",
              "      <th>actual_delivery_time</th>\n",
              "      <th>store_primary_category</th>\n",
              "      <th>order_protocol</th>\n",
              "      <th>total_items</th>\n",
              "      <th>subtotal</th>\n",
              "      <th>num_distinct_items</th>\n",
              "      <th>min_item_price</th>\n",
              "      <th>max_item_price</th>\n",
              "      <th>total_onshift_partners</th>\n",
              "      <th>total_busy_partners</th>\n",
              "      <th>total_outstanding_orders</th>\n",
              "      <th>weekday</th>\n",
              "      <th>hour</th>\n",
              "      <th>discount_coupon_applied</th>\n",
              "      <th>delivery_time_taken_mins</th>\n",
              "    </tr>\n",
              "  </thead>\n",
              "  <tbody>\n",
              "    <tr>\n",
              "      <th>0</th>\n",
              "      <td>1.0</td>\n",
              "      <td>2015-02-06 22:24:17</td>\n",
              "      <td>2015-02-06 23:27:16</td>\n",
              "      <td>american</td>\n",
              "      <td>1.0</td>\n",
              "      <td>4</td>\n",
              "      <td>3441</td>\n",
              "      <td>4</td>\n",
              "      <td>557</td>\n",
              "      <td>1239</td>\n",
              "      <td>33.0</td>\n",
              "      <td>14.0</td>\n",
              "      <td>21.0</td>\n",
              "      <td>Friday</td>\n",
              "      <td>22</td>\n",
              "      <td>0</td>\n",
              "      <td>63.0</td>\n",
              "    </tr>\n",
              "    <tr>\n",
              "      <th>1</th>\n",
              "      <td>2.0</td>\n",
              "      <td>2015-02-10 21:49:25</td>\n",
              "      <td>2015-02-10 22:56:29</td>\n",
              "      <td>mexican</td>\n",
              "      <td>2.0</td>\n",
              "      <td>1</td>\n",
              "      <td>1900</td>\n",
              "      <td>1</td>\n",
              "      <td>1400</td>\n",
              "      <td>1400</td>\n",
              "      <td>1.0</td>\n",
              "      <td>2.0</td>\n",
              "      <td>2.0</td>\n",
              "      <td>Tuesday</td>\n",
              "      <td>21</td>\n",
              "      <td>0</td>\n",
              "      <td>68.0</td>\n",
              "    </tr>\n",
              "    <tr>\n",
              "      <th>8</th>\n",
              "      <td>2.0</td>\n",
              "      <td>2015-02-16 00:11:35</td>\n",
              "      <td>2015-02-16 00:38:01</td>\n",
              "      <td>indian</td>\n",
              "      <td>3.0</td>\n",
              "      <td>4</td>\n",
              "      <td>4771</td>\n",
              "      <td>3</td>\n",
              "      <td>820</td>\n",
              "      <td>1604</td>\n",
              "      <td>8.0</td>\n",
              "      <td>6.0</td>\n",
              "      <td>18.0</td>\n",
              "      <td>Monday</td>\n",
              "      <td>0</td>\n",
              "      <td>0</td>\n",
              "      <td>27.0</td>\n",
              "    </tr>\n",
              "    <tr>\n",
              "      <th>14</th>\n",
              "      <td>1.0</td>\n",
              "      <td>2015-02-12 03:36:46</td>\n",
              "      <td>2015-02-12 04:14:39</td>\n",
              "      <td>italian</td>\n",
              "      <td>1.0</td>\n",
              "      <td>1</td>\n",
              "      <td>1525</td>\n",
              "      <td>1</td>\n",
              "      <td>1525</td>\n",
              "      <td>1525</td>\n",
              "      <td>5.0</td>\n",
              "      <td>6.0</td>\n",
              "      <td>8.0</td>\n",
              "      <td>Thursday</td>\n",
              "      <td>3</td>\n",
              "      <td>0</td>\n",
              "      <td>38.0</td>\n",
              "    </tr>\n",
              "    <tr>\n",
              "      <th>15</th>\n",
              "      <td>1.0</td>\n",
              "      <td>2015-01-27 02:12:36</td>\n",
              "      <td>2015-01-27 03:02:24</td>\n",
              "      <td>italian</td>\n",
              "      <td>1.0</td>\n",
              "      <td>2</td>\n",
              "      <td>3620</td>\n",
              "      <td>2</td>\n",
              "      <td>1425</td>\n",
              "      <td>2195</td>\n",
              "      <td>5.0</td>\n",
              "      <td>5.0</td>\n",
              "      <td>7.0</td>\n",
              "      <td>Tuesday</td>\n",
              "      <td>2</td>\n",
              "      <td>0</td>\n",
              "      <td>50.0</td>\n",
              "    </tr>\n",
              "  </tbody>\n",
              "</table>\n",
              "</div>\n",
              "      <button class=\"colab-df-convert\" onclick=\"convertToInteractive('df-e85e586c-129b-43bb-9bf9-48416abf0052')\"\n",
              "              title=\"Convert this dataframe to an interactive table.\"\n",
              "              style=\"display:none;\">\n",
              "        \n",
              "  <svg xmlns=\"http://www.w3.org/2000/svg\" height=\"24px\"viewBox=\"0 0 24 24\"\n",
              "       width=\"24px\">\n",
              "    <path d=\"M0 0h24v24H0V0z\" fill=\"none\"/>\n",
              "    <path d=\"M18.56 5.44l.94 2.06.94-2.06 2.06-.94-2.06-.94-.94-2.06-.94 2.06-2.06.94zm-11 1L8.5 8.5l.94-2.06 2.06-.94-2.06-.94L8.5 2.5l-.94 2.06-2.06.94zm10 10l.94 2.06.94-2.06 2.06-.94-2.06-.94-.94-2.06-.94 2.06-2.06.94z\"/><path d=\"M17.41 7.96l-1.37-1.37c-.4-.4-.92-.59-1.43-.59-.52 0-1.04.2-1.43.59L10.3 9.45l-7.72 7.72c-.78.78-.78 2.05 0 2.83L4 21.41c.39.39.9.59 1.41.59.51 0 1.02-.2 1.41-.59l7.78-7.78 2.81-2.81c.8-.78.8-2.07 0-2.86zM5.41 20L4 18.59l7.72-7.72 1.47 1.35L5.41 20z\"/>\n",
              "  </svg>\n",
              "      </button>\n",
              "      \n",
              "  <style>\n",
              "    .colab-df-container {\n",
              "      display:flex;\n",
              "      flex-wrap:wrap;\n",
              "      gap: 12px;\n",
              "    }\n",
              "\n",
              "    .colab-df-convert {\n",
              "      background-color: #E8F0FE;\n",
              "      border: none;\n",
              "      border-radius: 50%;\n",
              "      cursor: pointer;\n",
              "      display: none;\n",
              "      fill: #1967D2;\n",
              "      height: 32px;\n",
              "      padding: 0 0 0 0;\n",
              "      width: 32px;\n",
              "    }\n",
              "\n",
              "    .colab-df-convert:hover {\n",
              "      background-color: #E2EBFA;\n",
              "      box-shadow: 0px 1px 2px rgba(60, 64, 67, 0.3), 0px 1px 3px 1px rgba(60, 64, 67, 0.15);\n",
              "      fill: #174EA6;\n",
              "    }\n",
              "\n",
              "    [theme=dark] .colab-df-convert {\n",
              "      background-color: #3B4455;\n",
              "      fill: #D2E3FC;\n",
              "    }\n",
              "\n",
              "    [theme=dark] .colab-df-convert:hover {\n",
              "      background-color: #434B5C;\n",
              "      box-shadow: 0px 1px 3px 1px rgba(0, 0, 0, 0.15);\n",
              "      filter: drop-shadow(0px 1px 2px rgba(0, 0, 0, 0.3));\n",
              "      fill: #FFFFFF;\n",
              "    }\n",
              "  </style>\n",
              "\n",
              "      <script>\n",
              "        const buttonEl =\n",
              "          document.querySelector('#df-e85e586c-129b-43bb-9bf9-48416abf0052 button.colab-df-convert');\n",
              "        buttonEl.style.display =\n",
              "          google.colab.kernel.accessAllowed ? 'block' : 'none';\n",
              "\n",
              "        async function convertToInteractive(key) {\n",
              "          const element = document.querySelector('#df-e85e586c-129b-43bb-9bf9-48416abf0052');\n",
              "          const dataTable =\n",
              "            await google.colab.kernel.invokeFunction('convertToInteractive',\n",
              "                                                     [key], {});\n",
              "          if (!dataTable) return;\n",
              "\n",
              "          const docLinkHtml = 'Like what you see? Visit the ' +\n",
              "            '<a target=\"_blank\" href=https://colab.research.google.com/notebooks/data_table.ipynb>data table notebook</a>'\n",
              "            + ' to learn more about interactive tables.';\n",
              "          element.innerHTML = '';\n",
              "          dataTable['output_type'] = 'display_data';\n",
              "          await google.colab.output.renderOutput(dataTable, element);\n",
              "          const docLink = document.createElement('div');\n",
              "          docLink.innerHTML = docLinkHtml;\n",
              "          element.appendChild(docLink);\n",
              "        }\n",
              "      </script>\n",
              "    </div>\n",
              "  </div>\n",
              "  "
            ]
          },
          "metadata": {},
          "execution_count": 38
        }
      ],
      "source": [
        "df.head()"
      ]
    },
    {
      "cell_type": "code",
      "execution_count": null,
      "metadata": {
        "colab": {
          "base_uri": "https://localhost:8080/"
        },
        "id": "A7fhqR4dx-oO",
        "outputId": "b8cbe09c-ff39-4a6f-d787-80dd2f1dc8ad"
      },
      "outputs": [
        {
          "output_type": "execute_result",
          "data": {
            "text/plain": [
              "Index(['market_id', 'created_at', 'actual_delivery_time',\n",
              "       'store_primary_category', 'order_protocol', 'total_items', 'subtotal',\n",
              "       'num_distinct_items', 'min_item_price', 'max_item_price',\n",
              "       'total_onshift_partners', 'total_busy_partners',\n",
              "       'total_outstanding_orders', 'weekday', 'hour',\n",
              "       'discount_coupon_applied', 'delivery_time_taken_mins'],\n",
              "      dtype='object')"
            ]
          },
          "metadata": {},
          "execution_count": 39
        }
      ],
      "source": [
        "df.columns"
      ]
    },
    {
      "cell_type": "code",
      "execution_count": null,
      "metadata": {
        "colab": {
          "base_uri": "https://localhost:8080/",
          "height": 364
        },
        "id": "L2g4oa9cTyI_",
        "outputId": "ccae60bf-7a56-4c75-e575-0fce5de51bc8"
      },
      "outputs": [
        {
          "output_type": "execute_result",
          "data": {
            "text/plain": [
              "         total_items       subtotal  num_distinct_items  min_item_price  \\\n",
              "count  176476.000000  176476.000000       176476.000000   176476.000000   \n",
              "mean        3.204436    2696.563992            2.674528      684.968024   \n",
              "std         2.673124    1828.893959            1.625393      519.948152   \n",
              "min         1.000000       0.000000            1.000000        0.000000   \n",
              "25%         2.000000    1408.000000            1.000000      299.000000   \n",
              "50%         3.000000    2221.000000            2.000000      595.000000   \n",
              "75%         4.000000    3408.000000            3.000000      942.000000   \n",
              "max       411.000000   26800.000000           20.000000    14700.000000   \n",
              "\n",
              "       max_item_price  total_onshift_partners  total_busy_partners  \\\n",
              "count   176476.000000           176476.000000        176476.000000   \n",
              "mean      1159.920669               44.908072            41.846755   \n",
              "std        560.799371               34.531681            32.156344   \n",
              "min          0.000000               -4.000000            -5.000000   \n",
              "25%        799.000000               17.000000            15.000000   \n",
              "50%       1095.000000               37.000000            35.000000   \n",
              "75%       1395.000000               65.000000            62.000000   \n",
              "max      14700.000000              171.000000           154.000000   \n",
              "\n",
              "       total_outstanding_orders  delivery_time_taken_mins  \n",
              "count             176476.000000             176476.000000  \n",
              "mean                  58.210085                 48.258052  \n",
              "std                   52.711660                 27.645537  \n",
              "min                   -6.000000                  2.000000  \n",
              "25%                   17.000000                 36.000000  \n",
              "50%                   41.000000                 45.000000  \n",
              "75%                   85.000000                 57.000000  \n",
              "max                  285.000000               6232.000000  "
            ],
            "text/html": [
              "\n",
              "  <div id=\"df-b8bfc498-06f4-4a05-9cae-6c81cebf2856\">\n",
              "    <div class=\"colab-df-container\">\n",
              "      <div>\n",
              "<style scoped>\n",
              "    .dataframe tbody tr th:only-of-type {\n",
              "        vertical-align: middle;\n",
              "    }\n",
              "\n",
              "    .dataframe tbody tr th {\n",
              "        vertical-align: top;\n",
              "    }\n",
              "\n",
              "    .dataframe thead th {\n",
              "        text-align: right;\n",
              "    }\n",
              "</style>\n",
              "<table border=\"1\" class=\"dataframe\">\n",
              "  <thead>\n",
              "    <tr style=\"text-align: right;\">\n",
              "      <th></th>\n",
              "      <th>total_items</th>\n",
              "      <th>subtotal</th>\n",
              "      <th>num_distinct_items</th>\n",
              "      <th>min_item_price</th>\n",
              "      <th>max_item_price</th>\n",
              "      <th>total_onshift_partners</th>\n",
              "      <th>total_busy_partners</th>\n",
              "      <th>total_outstanding_orders</th>\n",
              "      <th>delivery_time_taken_mins</th>\n",
              "    </tr>\n",
              "  </thead>\n",
              "  <tbody>\n",
              "    <tr>\n",
              "      <th>count</th>\n",
              "      <td>176476.000000</td>\n",
              "      <td>176476.000000</td>\n",
              "      <td>176476.000000</td>\n",
              "      <td>176476.000000</td>\n",
              "      <td>176476.000000</td>\n",
              "      <td>176476.000000</td>\n",
              "      <td>176476.000000</td>\n",
              "      <td>176476.000000</td>\n",
              "      <td>176476.000000</td>\n",
              "    </tr>\n",
              "    <tr>\n",
              "      <th>mean</th>\n",
              "      <td>3.204436</td>\n",
              "      <td>2696.563992</td>\n",
              "      <td>2.674528</td>\n",
              "      <td>684.968024</td>\n",
              "      <td>1159.920669</td>\n",
              "      <td>44.908072</td>\n",
              "      <td>41.846755</td>\n",
              "      <td>58.210085</td>\n",
              "      <td>48.258052</td>\n",
              "    </tr>\n",
              "    <tr>\n",
              "      <th>std</th>\n",
              "      <td>2.673124</td>\n",
              "      <td>1828.893959</td>\n",
              "      <td>1.625393</td>\n",
              "      <td>519.948152</td>\n",
              "      <td>560.799371</td>\n",
              "      <td>34.531681</td>\n",
              "      <td>32.156344</td>\n",
              "      <td>52.711660</td>\n",
              "      <td>27.645537</td>\n",
              "    </tr>\n",
              "    <tr>\n",
              "      <th>min</th>\n",
              "      <td>1.000000</td>\n",
              "      <td>0.000000</td>\n",
              "      <td>1.000000</td>\n",
              "      <td>0.000000</td>\n",
              "      <td>0.000000</td>\n",
              "      <td>-4.000000</td>\n",
              "      <td>-5.000000</td>\n",
              "      <td>-6.000000</td>\n",
              "      <td>2.000000</td>\n",
              "    </tr>\n",
              "    <tr>\n",
              "      <th>25%</th>\n",
              "      <td>2.000000</td>\n",
              "      <td>1408.000000</td>\n",
              "      <td>1.000000</td>\n",
              "      <td>299.000000</td>\n",
              "      <td>799.000000</td>\n",
              "      <td>17.000000</td>\n",
              "      <td>15.000000</td>\n",
              "      <td>17.000000</td>\n",
              "      <td>36.000000</td>\n",
              "    </tr>\n",
              "    <tr>\n",
              "      <th>50%</th>\n",
              "      <td>3.000000</td>\n",
              "      <td>2221.000000</td>\n",
              "      <td>2.000000</td>\n",
              "      <td>595.000000</td>\n",
              "      <td>1095.000000</td>\n",
              "      <td>37.000000</td>\n",
              "      <td>35.000000</td>\n",
              "      <td>41.000000</td>\n",
              "      <td>45.000000</td>\n",
              "    </tr>\n",
              "    <tr>\n",
              "      <th>75%</th>\n",
              "      <td>4.000000</td>\n",
              "      <td>3408.000000</td>\n",
              "      <td>3.000000</td>\n",
              "      <td>942.000000</td>\n",
              "      <td>1395.000000</td>\n",
              "      <td>65.000000</td>\n",
              "      <td>62.000000</td>\n",
              "      <td>85.000000</td>\n",
              "      <td>57.000000</td>\n",
              "    </tr>\n",
              "    <tr>\n",
              "      <th>max</th>\n",
              "      <td>411.000000</td>\n",
              "      <td>26800.000000</td>\n",
              "      <td>20.000000</td>\n",
              "      <td>14700.000000</td>\n",
              "      <td>14700.000000</td>\n",
              "      <td>171.000000</td>\n",
              "      <td>154.000000</td>\n",
              "      <td>285.000000</td>\n",
              "      <td>6232.000000</td>\n",
              "    </tr>\n",
              "  </tbody>\n",
              "</table>\n",
              "</div>\n",
              "      <button class=\"colab-df-convert\" onclick=\"convertToInteractive('df-b8bfc498-06f4-4a05-9cae-6c81cebf2856')\"\n",
              "              title=\"Convert this dataframe to an interactive table.\"\n",
              "              style=\"display:none;\">\n",
              "        \n",
              "  <svg xmlns=\"http://www.w3.org/2000/svg\" height=\"24px\"viewBox=\"0 0 24 24\"\n",
              "       width=\"24px\">\n",
              "    <path d=\"M0 0h24v24H0V0z\" fill=\"none\"/>\n",
              "    <path d=\"M18.56 5.44l.94 2.06.94-2.06 2.06-.94-2.06-.94-.94-2.06-.94 2.06-2.06.94zm-11 1L8.5 8.5l.94-2.06 2.06-.94-2.06-.94L8.5 2.5l-.94 2.06-2.06.94zm10 10l.94 2.06.94-2.06 2.06-.94-2.06-.94-.94-2.06-.94 2.06-2.06.94z\"/><path d=\"M17.41 7.96l-1.37-1.37c-.4-.4-.92-.59-1.43-.59-.52 0-1.04.2-1.43.59L10.3 9.45l-7.72 7.72c-.78.78-.78 2.05 0 2.83L4 21.41c.39.39.9.59 1.41.59.51 0 1.02-.2 1.41-.59l7.78-7.78 2.81-2.81c.8-.78.8-2.07 0-2.86zM5.41 20L4 18.59l7.72-7.72 1.47 1.35L5.41 20z\"/>\n",
              "  </svg>\n",
              "      </button>\n",
              "      \n",
              "  <style>\n",
              "    .colab-df-container {\n",
              "      display:flex;\n",
              "      flex-wrap:wrap;\n",
              "      gap: 12px;\n",
              "    }\n",
              "\n",
              "    .colab-df-convert {\n",
              "      background-color: #E8F0FE;\n",
              "      border: none;\n",
              "      border-radius: 50%;\n",
              "      cursor: pointer;\n",
              "      display: none;\n",
              "      fill: #1967D2;\n",
              "      height: 32px;\n",
              "      padding: 0 0 0 0;\n",
              "      width: 32px;\n",
              "    }\n",
              "\n",
              "    .colab-df-convert:hover {\n",
              "      background-color: #E2EBFA;\n",
              "      box-shadow: 0px 1px 2px rgba(60, 64, 67, 0.3), 0px 1px 3px 1px rgba(60, 64, 67, 0.15);\n",
              "      fill: #174EA6;\n",
              "    }\n",
              "\n",
              "    [theme=dark] .colab-df-convert {\n",
              "      background-color: #3B4455;\n",
              "      fill: #D2E3FC;\n",
              "    }\n",
              "\n",
              "    [theme=dark] .colab-df-convert:hover {\n",
              "      background-color: #434B5C;\n",
              "      box-shadow: 0px 1px 3px 1px rgba(0, 0, 0, 0.15);\n",
              "      filter: drop-shadow(0px 1px 2px rgba(0, 0, 0, 0.3));\n",
              "      fill: #FFFFFF;\n",
              "    }\n",
              "  </style>\n",
              "\n",
              "      <script>\n",
              "        const buttonEl =\n",
              "          document.querySelector('#df-b8bfc498-06f4-4a05-9cae-6c81cebf2856 button.colab-df-convert');\n",
              "        buttonEl.style.display =\n",
              "          google.colab.kernel.accessAllowed ? 'block' : 'none';\n",
              "\n",
              "        async function convertToInteractive(key) {\n",
              "          const element = document.querySelector('#df-b8bfc498-06f4-4a05-9cae-6c81cebf2856');\n",
              "          const dataTable =\n",
              "            await google.colab.kernel.invokeFunction('convertToInteractive',\n",
              "                                                     [key], {});\n",
              "          if (!dataTable) return;\n",
              "\n",
              "          const docLinkHtml = 'Like what you see? Visit the ' +\n",
              "            '<a target=\"_blank\" href=https://colab.research.google.com/notebooks/data_table.ipynb>data table notebook</a>'\n",
              "            + ' to learn more about interactive tables.';\n",
              "          element.innerHTML = '';\n",
              "          dataTable['output_type'] = 'display_data';\n",
              "          await google.colab.output.renderOutput(dataTable, element);\n",
              "          const docLink = document.createElement('div');\n",
              "          docLink.innerHTML = docLinkHtml;\n",
              "          element.appendChild(docLink);\n",
              "        }\n",
              "      </script>\n",
              "    </div>\n",
              "  </div>\n",
              "  "
            ]
          },
          "metadata": {},
          "execution_count": 40
        }
      ],
      "source": [
        "df.describe()"
      ]
    },
    {
      "cell_type": "code",
      "execution_count": null,
      "metadata": {
        "id": "s8C5W23LT0WK"
      },
      "outputs": [],
      "source": [
        "## considering data which took less than a day to deliver the order\n",
        "df=df.loc[df['delivery_time_taken_mins']<=24*60]"
      ]
    },
    {
      "cell_type": "markdown",
      "metadata": {
        "id": "yKzZ8X1aFHBd"
      },
      "source": [
        "## Visualization"
      ]
    },
    {
      "cell_type": "code",
      "execution_count": null,
      "metadata": {
        "id": "Zw3UY3sbZdY5"
      },
      "outputs": [],
      "source": [
        "df1=df.select_dtypes(exclude=['datetime64[ns]'])"
      ]
    },
    {
      "cell_type": "code",
      "execution_count": null,
      "metadata": {
        "colab": {
          "base_uri": "https://localhost:8080/",
          "height": 270
        },
        "id": "5OZtSLN_cHSf",
        "outputId": "2d6eb6d8-92a2-4c7c-e4f0-6ffb4dd8ef71"
      },
      "outputs": [
        {
          "output_type": "execute_result",
          "data": {
            "text/plain": [
              "   market_id store_primary_category order_protocol  total_items  subtotal  \\\n",
              "0        1.0               american            1.0            4      3441   \n",
              "1        2.0                mexican            2.0            1      1900   \n",
              "8        2.0                 indian            3.0            4      4771   \n",
              "14       1.0                italian            1.0            1      1525   \n",
              "15       1.0                italian            1.0            2      3620   \n",
              "\n",
              "    num_distinct_items  min_item_price  max_item_price  \\\n",
              "0                    4             557            1239   \n",
              "1                    1            1400            1400   \n",
              "8                    3             820            1604   \n",
              "14                   1            1525            1525   \n",
              "15                   2            1425            2195   \n",
              "\n",
              "    total_onshift_partners  total_busy_partners  total_outstanding_orders  \\\n",
              "0                     33.0                 14.0                      21.0   \n",
              "1                      1.0                  2.0                       2.0   \n",
              "8                      8.0                  6.0                      18.0   \n",
              "14                     5.0                  6.0                       8.0   \n",
              "15                     5.0                  5.0                       7.0   \n",
              "\n",
              "     weekday hour discount_coupon_applied  delivery_time_taken_mins  \n",
              "0     Friday   22                       0                      63.0  \n",
              "1    Tuesday   21                       0                      68.0  \n",
              "8     Monday    0                       0                      27.0  \n",
              "14  Thursday    3                       0                      38.0  \n",
              "15   Tuesday    2                       0                      50.0  "
            ],
            "text/html": [
              "\n",
              "  <div id=\"df-a2ba8828-c453-4f36-958c-994c901046b9\">\n",
              "    <div class=\"colab-df-container\">\n",
              "      <div>\n",
              "<style scoped>\n",
              "    .dataframe tbody tr th:only-of-type {\n",
              "        vertical-align: middle;\n",
              "    }\n",
              "\n",
              "    .dataframe tbody tr th {\n",
              "        vertical-align: top;\n",
              "    }\n",
              "\n",
              "    .dataframe thead th {\n",
              "        text-align: right;\n",
              "    }\n",
              "</style>\n",
              "<table border=\"1\" class=\"dataframe\">\n",
              "  <thead>\n",
              "    <tr style=\"text-align: right;\">\n",
              "      <th></th>\n",
              "      <th>market_id</th>\n",
              "      <th>store_primary_category</th>\n",
              "      <th>order_protocol</th>\n",
              "      <th>total_items</th>\n",
              "      <th>subtotal</th>\n",
              "      <th>num_distinct_items</th>\n",
              "      <th>min_item_price</th>\n",
              "      <th>max_item_price</th>\n",
              "      <th>total_onshift_partners</th>\n",
              "      <th>total_busy_partners</th>\n",
              "      <th>total_outstanding_orders</th>\n",
              "      <th>weekday</th>\n",
              "      <th>hour</th>\n",
              "      <th>discount_coupon_applied</th>\n",
              "      <th>delivery_time_taken_mins</th>\n",
              "    </tr>\n",
              "  </thead>\n",
              "  <tbody>\n",
              "    <tr>\n",
              "      <th>0</th>\n",
              "      <td>1.0</td>\n",
              "      <td>american</td>\n",
              "      <td>1.0</td>\n",
              "      <td>4</td>\n",
              "      <td>3441</td>\n",
              "      <td>4</td>\n",
              "      <td>557</td>\n",
              "      <td>1239</td>\n",
              "      <td>33.0</td>\n",
              "      <td>14.0</td>\n",
              "      <td>21.0</td>\n",
              "      <td>Friday</td>\n",
              "      <td>22</td>\n",
              "      <td>0</td>\n",
              "      <td>63.0</td>\n",
              "    </tr>\n",
              "    <tr>\n",
              "      <th>1</th>\n",
              "      <td>2.0</td>\n",
              "      <td>mexican</td>\n",
              "      <td>2.0</td>\n",
              "      <td>1</td>\n",
              "      <td>1900</td>\n",
              "      <td>1</td>\n",
              "      <td>1400</td>\n",
              "      <td>1400</td>\n",
              "      <td>1.0</td>\n",
              "      <td>2.0</td>\n",
              "      <td>2.0</td>\n",
              "      <td>Tuesday</td>\n",
              "      <td>21</td>\n",
              "      <td>0</td>\n",
              "      <td>68.0</td>\n",
              "    </tr>\n",
              "    <tr>\n",
              "      <th>8</th>\n",
              "      <td>2.0</td>\n",
              "      <td>indian</td>\n",
              "      <td>3.0</td>\n",
              "      <td>4</td>\n",
              "      <td>4771</td>\n",
              "      <td>3</td>\n",
              "      <td>820</td>\n",
              "      <td>1604</td>\n",
              "      <td>8.0</td>\n",
              "      <td>6.0</td>\n",
              "      <td>18.0</td>\n",
              "      <td>Monday</td>\n",
              "      <td>0</td>\n",
              "      <td>0</td>\n",
              "      <td>27.0</td>\n",
              "    </tr>\n",
              "    <tr>\n",
              "      <th>14</th>\n",
              "      <td>1.0</td>\n",
              "      <td>italian</td>\n",
              "      <td>1.0</td>\n",
              "      <td>1</td>\n",
              "      <td>1525</td>\n",
              "      <td>1</td>\n",
              "      <td>1525</td>\n",
              "      <td>1525</td>\n",
              "      <td>5.0</td>\n",
              "      <td>6.0</td>\n",
              "      <td>8.0</td>\n",
              "      <td>Thursday</td>\n",
              "      <td>3</td>\n",
              "      <td>0</td>\n",
              "      <td>38.0</td>\n",
              "    </tr>\n",
              "    <tr>\n",
              "      <th>15</th>\n",
              "      <td>1.0</td>\n",
              "      <td>italian</td>\n",
              "      <td>1.0</td>\n",
              "      <td>2</td>\n",
              "      <td>3620</td>\n",
              "      <td>2</td>\n",
              "      <td>1425</td>\n",
              "      <td>2195</td>\n",
              "      <td>5.0</td>\n",
              "      <td>5.0</td>\n",
              "      <td>7.0</td>\n",
              "      <td>Tuesday</td>\n",
              "      <td>2</td>\n",
              "      <td>0</td>\n",
              "      <td>50.0</td>\n",
              "    </tr>\n",
              "  </tbody>\n",
              "</table>\n",
              "</div>\n",
              "      <button class=\"colab-df-convert\" onclick=\"convertToInteractive('df-a2ba8828-c453-4f36-958c-994c901046b9')\"\n",
              "              title=\"Convert this dataframe to an interactive table.\"\n",
              "              style=\"display:none;\">\n",
              "        \n",
              "  <svg xmlns=\"http://www.w3.org/2000/svg\" height=\"24px\"viewBox=\"0 0 24 24\"\n",
              "       width=\"24px\">\n",
              "    <path d=\"M0 0h24v24H0V0z\" fill=\"none\"/>\n",
              "    <path d=\"M18.56 5.44l.94 2.06.94-2.06 2.06-.94-2.06-.94-.94-2.06-.94 2.06-2.06.94zm-11 1L8.5 8.5l.94-2.06 2.06-.94-2.06-.94L8.5 2.5l-.94 2.06-2.06.94zm10 10l.94 2.06.94-2.06 2.06-.94-2.06-.94-.94-2.06-.94 2.06-2.06.94z\"/><path d=\"M17.41 7.96l-1.37-1.37c-.4-.4-.92-.59-1.43-.59-.52 0-1.04.2-1.43.59L10.3 9.45l-7.72 7.72c-.78.78-.78 2.05 0 2.83L4 21.41c.39.39.9.59 1.41.59.51 0 1.02-.2 1.41-.59l7.78-7.78 2.81-2.81c.8-.78.8-2.07 0-2.86zM5.41 20L4 18.59l7.72-7.72 1.47 1.35L5.41 20z\"/>\n",
              "  </svg>\n",
              "      </button>\n",
              "      \n",
              "  <style>\n",
              "    .colab-df-container {\n",
              "      display:flex;\n",
              "      flex-wrap:wrap;\n",
              "      gap: 12px;\n",
              "    }\n",
              "\n",
              "    .colab-df-convert {\n",
              "      background-color: #E8F0FE;\n",
              "      border: none;\n",
              "      border-radius: 50%;\n",
              "      cursor: pointer;\n",
              "      display: none;\n",
              "      fill: #1967D2;\n",
              "      height: 32px;\n",
              "      padding: 0 0 0 0;\n",
              "      width: 32px;\n",
              "    }\n",
              "\n",
              "    .colab-df-convert:hover {\n",
              "      background-color: #E2EBFA;\n",
              "      box-shadow: 0px 1px 2px rgba(60, 64, 67, 0.3), 0px 1px 3px 1px rgba(60, 64, 67, 0.15);\n",
              "      fill: #174EA6;\n",
              "    }\n",
              "\n",
              "    [theme=dark] .colab-df-convert {\n",
              "      background-color: #3B4455;\n",
              "      fill: #D2E3FC;\n",
              "    }\n",
              "\n",
              "    [theme=dark] .colab-df-convert:hover {\n",
              "      background-color: #434B5C;\n",
              "      box-shadow: 0px 1px 3px 1px rgba(0, 0, 0, 0.15);\n",
              "      filter: drop-shadow(0px 1px 2px rgba(0, 0, 0, 0.3));\n",
              "      fill: #FFFFFF;\n",
              "    }\n",
              "  </style>\n",
              "\n",
              "      <script>\n",
              "        const buttonEl =\n",
              "          document.querySelector('#df-a2ba8828-c453-4f36-958c-994c901046b9 button.colab-df-convert');\n",
              "        buttonEl.style.display =\n",
              "          google.colab.kernel.accessAllowed ? 'block' : 'none';\n",
              "\n",
              "        async function convertToInteractive(key) {\n",
              "          const element = document.querySelector('#df-a2ba8828-c453-4f36-958c-994c901046b9');\n",
              "          const dataTable =\n",
              "            await google.colab.kernel.invokeFunction('convertToInteractive',\n",
              "                                                     [key], {});\n",
              "          if (!dataTable) return;\n",
              "\n",
              "          const docLinkHtml = 'Like what you see? Visit the ' +\n",
              "            '<a target=\"_blank\" href=https://colab.research.google.com/notebooks/data_table.ipynb>data table notebook</a>'\n",
              "            + ' to learn more about interactive tables.';\n",
              "          element.innerHTML = '';\n",
              "          dataTable['output_type'] = 'display_data';\n",
              "          await google.colab.output.renderOutput(dataTable, element);\n",
              "          const docLink = document.createElement('div');\n",
              "          docLink.innerHTML = docLinkHtml;\n",
              "          element.appendChild(docLink);\n",
              "        }\n",
              "      </script>\n",
              "    </div>\n",
              "  </div>\n",
              "  "
            ]
          },
          "metadata": {},
          "execution_count": 43
        }
      ],
      "source": [
        "df1.head()"
      ]
    },
    {
      "cell_type": "code",
      "execution_count": null,
      "metadata": {
        "colab": {
          "base_uri": "https://localhost:8080/"
        },
        "id": "JE6YnIa4cREB",
        "outputId": "a23547de-6b36-4e28-b3d4-947f12320a7c"
      },
      "outputs": [
        {
          "output_type": "execute_result",
          "data": {
            "text/plain": [
              "american             18249\n",
              "pizza                15804\n",
              "mexican              15642\n",
              "burger                9945\n",
              "sandwich              9059\n",
              "                     ...  \n",
              "african                 10\n",
              "lebanese                 9\n",
              "belgian                  2\n",
              "chocolate                1\n",
              "alcohol-plus-food        1\n",
              "Name: store_primary_category, Length: 73, dtype: int64"
            ]
          },
          "metadata": {},
          "execution_count": 44
        }
      ],
      "source": [
        "df1['store_primary_category'].value_counts()"
      ]
    },
    {
      "cell_type": "code",
      "execution_count": null,
      "metadata": {
        "id": "AyYzWS4ecsku"
      },
      "outputs": [],
      "source": [
        "df1=pd.get_dummies(df1,columns=['store_primary_category','weekday'])"
      ]
    },
    {
      "cell_type": "code",
      "execution_count": null,
      "metadata": {
        "id": "gKedLMLfuhZ4"
      },
      "outputs": [],
      "source": [
        "from sklearn.preprocessing import StandardScaler"
      ]
    },
    {
      "cell_type": "code",
      "execution_count": null,
      "metadata": {
        "id": "4DH2aNVYul5-"
      },
      "outputs": [],
      "source": [
        "scaler = StandardScaler()   # I have not followed above discussion\n",
        "ds_scaled = scaler.fit_transform(df1)"
      ]
    },
    {
      "cell_type": "code",
      "execution_count": null,
      "metadata": {
        "colab": {
          "base_uri": "https://localhost:8080/",
          "height": 445
        },
        "id": "9HwVkTqOutLL",
        "outputId": "3ced2997-95a4-425c-badc-94b84c6f7702"
      },
      "outputs": [
        {
          "output_type": "execute_result",
          "data": {
            "text/plain": [
              "<matplotlib.collections.PathCollection at 0x7fe9ccbecf10>"
            ]
          },
          "metadata": {},
          "execution_count": 48
        },
        {
          "output_type": "display_data",
          "data": {
            "text/plain": [
              "<Figure size 720x504 with 1 Axes>"
            ],
            "image/png": "[encoded data removed]"
          },
          "metadata": {
            "needs_background": "light"
          }
        }
      ],
      "source": [
        "from sklearn.decomposition import PCA\n",
        "\n",
        "plt.figure(figsize=(10,7))\n",
        "pca = PCA(n_components=2)\n",
        "vis = pca.fit_transform(ds_scaled[:, :-1])\n",
        "plt.scatter(vis[:,0], vis[:,1], s=7)"
      ]
    },
    {
      "cell_type": "code",
      "execution_count": null,
      "metadata": {
        "id": "GWy7jybzIghB"
      },
      "outputs": [],
      "source": [
        "# from sklearn.manifold import TSNE\n",
        "\n",
        "# plt.figure(figsize=(10,7))\n",
        "# tsne = TSNE(n_components=2, perplexity=50, random_state=0)\n",
        "# vis_tsne = tsne.fit_transform(ds_scaled[:, :-1])\n",
        "# plt.scatter(vis_tsne[:,0], vis_tsne[:,1], s=7)"
      ]
    },
    {
      "cell_type": "markdown",
      "metadata": {
        "id": "dlpTeIEECo2x"
      },
      "source": [
        "## Detecting and Handling Outliers(Unsupervised)"
      ]
    },
    {
      "cell_type": "code",
      "execution_count": null,
      "metadata": {
        "id": "hw1ARZqhGYoA"
      },
      "outputs": [],
      "source": [
        "from sklearn.neighbors import LocalOutlierFactor\n",
        "from sklearn.ensemble import IsolationForest\n",
        "from sklearn.covariance import EllipticEnvelope"
      ]
    },
    {
      "cell_type": "code",
      "execution_count": null,
      "metadata": {
        "colab": {
          "base_uri": "https://localhost:8080/",
          "height": 428
        },
        "id": "VllHwW2sJdSH",
        "outputId": "1d993f23-4ccc-4c7d-d82a-9a39c845dc97",
        "scrolled": true
      },
      "outputs": [
        {
          "output_type": "display_data",
          "data": {
            "text/plain": [
              "<Figure size 720x504 with 1 Axes>"
            ],
            "image/png": "[encoded data removed]"
          },
          "metadata": {
            "needs_background": "light"
          }
        }
      ],
      "source": [
        "plt.figure(figsize=(10,7))\n",
        "is_outlier = IsolationForest(contamination = 'auto', random_state=0, n_estimators=100).fit_predict(vis)\n",
        "plt.scatter(vis[:,0], vis[:,1], s=7, c=is_outlier)\n",
        "plt.show()"
      ]
    },
    {
      "cell_type": "code",
      "execution_count": null,
      "metadata": {
        "colab": {
          "base_uri": "https://localhost:8080/"
        },
        "id": "OP_HM81lSXvD",
        "outputId": "8f6bd554-b4eb-45d6-8973-fc20977c849b"
      },
      "outputs": [
        {
          "output_type": "execute_result",
          "data": {
            "text/plain": [
              "array([-1,  1])"
            ]
          },
          "metadata": {},
          "execution_count": 52
        }
      ],
      "source": [
        "np.unique(is_outlier)"
      ]
    },
    {
      "cell_type": "code",
      "execution_count": null,
      "metadata": {
        "colab": {
          "base_uri": "https://localhost:8080/",
          "height": 428
        },
        "id": "ZWxZ9xULAXLK",
        "outputId": "4bb8b22b-88cc-4416-bba6-c68117dde01c"
      },
      "outputs": [
        {
          "output_type": "display_data",
          "data": {
            "text/plain": [
              "<Figure size 720x504 with 1 Axes>"
            ],
            "image/png": "[encoded data removed]"
          },
          "metadata": {
            "needs_background": "light"
          }
        }
      ],
      "source": [
        "plt.figure(figsize=(10,7))\n",
        "is_outlier_lof = LocalOutlierFactor(n_neighbors=100, contamination=0.10).fit_predict(vis)\n",
        "plt.scatter(vis[:,0], vis[:,1], s=7, c=is_outlier_lof)\n",
        "plt.show()"
      ]
    },
    {
      "cell_type": "code",
      "execution_count": null,
      "metadata": {
        "colab": {
          "base_uri": "https://localhost:8080/"
        },
        "id": "MtwTidlbB8vc",
        "outputId": "2a90e9d2-6ec0-4451-ae60-076ab0d18302"
      },
      "outputs": [
        {
          "output_type": "execute_result",
          "data": {
            "text/plain": [
              "(array([-1,  1]), array([ 17648, 158826]))"
            ]
          },
          "metadata": {},
          "execution_count": 54
        }
      ],
      "source": [
        "np.unique(is_outlier_lof,return_counts=True)"
      ]
    },
    {
      "cell_type": "code",
      "execution_count": null,
      "metadata": {
        "id": "7xph5Ptpam8T"
      },
      "outputs": [],
      "source": [
        "## not getting satisfied results with default parameters\n",
        "from sklearn.cluster import DBSCAN\n",
        "dbsc = DBSCAN().fit(vis)"
      ]
    },
    {
      "cell_type": "code",
      "execution_count": null,
      "metadata": {
        "id": "Myf4fIpHbDjI",
        "colab": {
          "base_uri": "https://localhost:8080/",
          "height": 449
        },
        "outputId": "5ca8eddf-166f-416c-870f-3a1391cd1a4b"
      },
      "outputs": [
        {
          "output_type": "execute_result",
          "data": {
            "text/plain": [
              "<matplotlib.colorbar.Colorbar at 0x7fe9c8930df0>"
            ]
          },
          "metadata": {},
          "execution_count": 56
        },
        {
          "output_type": "display_data",
          "data": {
            "text/plain": [
              "<Figure size 720x504 with 2 Axes>"
            ],
            "image/png": "[encoded data removed]"
          },
          "metadata": {
            "needs_background": "light"
          }
        }
      ],
      "source": [
        "plt.figure(figsize=(10,7))\n",
        "plt.scatter(vis[:,0], vis[:,1], s=7, c=dbsc.labels_)\n",
        "plt.colorbar()"
      ]
    },
    {
      "cell_type": "code",
      "execution_count": null,
      "metadata": {
        "colab": {
          "base_uri": "https://localhost:8080/"
        },
        "id": "nGR2yW7RSXvF",
        "outputId": "0a279248-2001-4f01-801a-042d0f7890fb"
      },
      "outputs": [
        {
          "output_type": "execute_result",
          "data": {
            "text/plain": [
              "(array([-1,  0,  1,  2,  3,  4,  5,  6]),\n",
              " array([    71, 176363,      5,      6,      8,      9,      6,      6]))"
            ]
          },
          "metadata": {},
          "execution_count": 57
        }
      ],
      "source": [
        "np.unique(dbsc.labels_,return_counts=True)"
      ]
    },
    {
      "cell_type": "code",
      "execution_count": null,
      "metadata": {
        "id": "oddS8tAvjajh"
      },
      "outputs": [],
      "source": [
        "df['is_outlier']=is_outlier_lof"
      ]
    },
    {
      "cell_type": "code",
      "execution_count": null,
      "metadata": {
        "id": "9F6gtJk9CP7i",
        "colab": {
          "base_uri": "https://localhost:8080/"
        },
        "outputId": "f44f7de0-916b-4635-dcc0-6359c1df3248"
      },
      "outputs": [
        {
          "output_type": "execute_result",
          "data": {
            "text/plain": [
              " 1    158826\n",
              "-1     17648\n",
              "Name: is_outlier, dtype: int64"
            ]
          },
          "metadata": {},
          "execution_count": 59
        }
      ],
      "source": [
        "df['is_outlier'].value_counts()"
      ]
    },
    {
      "cell_type": "code",
      "execution_count": null,
      "metadata": {
        "id": "lA-jX93ZCVPa"
      },
      "outputs": [],
      "source": [
        "df=df.loc[df['is_outlier']==1]"
      ]
    },
    {
      "cell_type": "code",
      "execution_count": null,
      "metadata": {
        "id": "3rpG3WtrCaoG",
        "colab": {
          "base_uri": "https://localhost:8080/"
        },
        "outputId": "b1e9fb57-1f60-49b3-88c3-26188659741b"
      },
      "outputs": [
        {
          "output_type": "stream",
          "name": "stdout",
          "text": [
            "<class 'pandas.core.frame.DataFrame'>\n",
            "Int64Index: 158826 entries, 0 to 197427\n",
            "Data columns (total 18 columns):\n",
            " #   Column                    Non-Null Count   Dtype         \n",
            "---  ------                    --------------   -----         \n",
            " 0   market_id                 158826 non-null  object        \n",
            " 1   created_at                158826 non-null  datetime64[ns]\n",
            " 2   actual_delivery_time      158826 non-null  datetime64[ns]\n",
            " 3   store_primary_category    158826 non-null  object        \n",
            " 4   order_protocol            158826 non-null  object        \n",
            " 5   total_items               158826 non-null  int64         \n",
            " 6   subtotal                  158826 non-null  int64         \n",
            " 7   num_distinct_items        158826 non-null  int64         \n",
            " 8   min_item_price            158826 non-null  int64         \n",
            " 9   max_item_price            158826 non-null  int64         \n",
            " 10  total_onshift_partners    158826 non-null  float64       \n",
            " 11  total_busy_partners       158826 non-null  float64       \n",
            " 12  total_outstanding_orders  158826 non-null  float64       \n",
            " 13  weekday                   158826 non-null  object        \n",
            " 14  hour                      158826 non-null  object        \n",
            " 15  discount_coupon_applied   158826 non-null  object        \n",
            " 16  delivery_time_taken_mins  158826 non-null  float64       \n",
            " 17  is_outlier                158826 non-null  int64         \n",
            "dtypes: datetime64[ns](2), float64(4), int64(6), object(6)\n",
            "memory usage: 23.0+ MB\n"
          ]
        }
      ],
      "source": [
        "df.info()"
      ]
    },
    {
      "cell_type": "code",
      "execution_count": null,
      "metadata": {
        "id": "QOWiQnJHCfFL"
      },
      "outputs": [],
      "source": [
        "df.drop(columns=['is_outlier'],inplace=True)"
      ]
    },
    {
      "cell_type": "markdown",
      "metadata": {
        "id": "s60Cq815CyTa"
      },
      "source": [
        "## Graphical and Non Graphical Analysis"
      ]
    },
    {
      "cell_type": "code",
      "execution_count": null,
      "metadata": {
        "id": "TFlbOshpCkDv",
        "colab": {
          "base_uri": "https://localhost:8080/"
        },
        "outputId": "d3aa062c-eb3e-4113-d63d-4b58d82468de"
      },
      "outputs": [
        {
          "output_type": "execute_result",
          "data": {
            "text/plain": [
              "Index(['market_id', 'created_at', 'actual_delivery_time',\n",
              "       'store_primary_category', 'order_protocol', 'total_items', 'subtotal',\n",
              "       'num_distinct_items', 'min_item_price', 'max_item_price',\n",
              "       'total_onshift_partners', 'total_busy_partners',\n",
              "       'total_outstanding_orders', 'weekday', 'hour',\n",
              "       'discount_coupon_applied', 'delivery_time_taken_mins'],\n",
              "      dtype='object')"
            ]
          },
          "metadata": {},
          "execution_count": 63
        }
      ],
      "source": [
        "df.columns"
      ]
    },
    {
      "cell_type": "code",
      "execution_count": null,
      "metadata": {
        "id": "5oq7R6CxD77C",
        "colab": {
          "base_uri": "https://localhost:8080/",
          "height": 299
        },
        "outputId": "78782ddb-50f3-456a-f805-330eceaba24f"
      },
      "outputs": [
        {
          "output_type": "execute_result",
          "data": {
            "text/plain": [
              "<matplotlib.axes._subplots.AxesSubplot at 0x7fe9cbd3dc10>"
            ]
          },
          "metadata": {},
          "execution_count": 64
        },
        {
          "output_type": "display_data",
          "data": {
            "text/plain": [
              "<Figure size 432x288 with 1 Axes>"
            ],
            "image/png": "[encoded data removed]"
          },
          "metadata": {
            "needs_background": "light"
          }
        }
      ],
      "source": [
        "## Majority of the orders are from market id 2\n",
        "sns.countplot(df['market_id'])"
      ]
    },
    {
      "cell_type": "code",
      "execution_count": null,
      "metadata": {
        "id": "m-t-bpsREDAz",
        "colab": {
          "base_uri": "https://localhost:8080/",
          "height": 363
        },
        "outputId": "14586b54-ff68-444a-c6af-65a37c96d1c4"
      },
      "outputs": [
        {
          "output_type": "execute_result",
          "data": {
            "text/plain": [
              "   store_primary_category  Count\n",
              "3                american  16432\n",
              "43                mexican  14680\n",
              "52                  pizza  13385\n",
              "11                 burger   9461\n",
              "55               sandwich   8342\n",
              "18                chinese   8008\n",
              "36               japanese   7549\n",
              "21                dessert   7345\n",
              "35                italian   6188\n",
              "33                 indian   5958"
            ],
            "text/html": [
              "\n",
              "  <div id=\"df-8ae63cb9-4e6a-4898-8041-29196d579240\">\n",
              "    <div class=\"colab-df-container\">\n",
              "      <div>\n",
              "<style scoped>\n",
              "    .dataframe tbody tr th:only-of-type {\n",
              "        vertical-align: middle;\n",
              "    }\n",
              "\n",
              "    .dataframe tbody tr th {\n",
              "        vertical-align: top;\n",
              "    }\n",
              "\n",
              "    .dataframe thead th {\n",
              "        text-align: right;\n",
              "    }\n",
              "</style>\n",
              "<table border=\"1\" class=\"dataframe\">\n",
              "  <thead>\n",
              "    <tr style=\"text-align: right;\">\n",
              "      <th></th>\n",
              "      <th>store_primary_category</th>\n",
              "      <th>Count</th>\n",
              "    </tr>\n",
              "  </thead>\n",
              "  <tbody>\n",
              "    <tr>\n",
              "      <th>3</th>\n",
              "      <td>american</td>\n",
              "      <td>16432</td>\n",
              "    </tr>\n",
              "    <tr>\n",
              "      <th>43</th>\n",
              "      <td>mexican</td>\n",
              "      <td>14680</td>\n",
              "    </tr>\n",
              "    <tr>\n",
              "      <th>52</th>\n",
              "      <td>pizza</td>\n",
              "      <td>13385</td>\n",
              "    </tr>\n",
              "    <tr>\n",
              "      <th>11</th>\n",
              "      <td>burger</td>\n",
              "      <td>9461</td>\n",
              "    </tr>\n",
              "    <tr>\n",
              "      <th>55</th>\n",
              "      <td>sandwich</td>\n",
              "      <td>8342</td>\n",
              "    </tr>\n",
              "    <tr>\n",
              "      <th>18</th>\n",
              "      <td>chinese</td>\n",
              "      <td>8008</td>\n",
              "    </tr>\n",
              "    <tr>\n",
              "      <th>36</th>\n",
              "      <td>japanese</td>\n",
              "      <td>7549</td>\n",
              "    </tr>\n",
              "    <tr>\n",
              "      <th>21</th>\n",
              "      <td>dessert</td>\n",
              "      <td>7345</td>\n",
              "    </tr>\n",
              "    <tr>\n",
              "      <th>35</th>\n",
              "      <td>italian</td>\n",
              "      <td>6188</td>\n",
              "    </tr>\n",
              "    <tr>\n",
              "      <th>33</th>\n",
              "      <td>indian</td>\n",
              "      <td>5958</td>\n",
              "    </tr>\n",
              "  </tbody>\n",
              "</table>\n",
              "</div>\n",
              "      <button class=\"colab-df-convert\" onclick=\"convertToInteractive('df-8ae63cb9-4e6a-4898-8041-29196d579240')\"\n",
              "              title=\"Convert this dataframe to an interactive table.\"\n",
              "              style=\"display:none;\">\n",
              "        \n",
              "  <svg xmlns=\"http://www.w3.org/2000/svg\" height=\"24px\"viewBox=\"0 0 24 24\"\n",
              "       width=\"24px\">\n",
              "    <path d=\"M0 0h24v24H0V0z\" fill=\"none\"/>\n",
              "    <path d=\"M18.56 5.44l.94 2.06.94-2.06 2.06-.94-2.06-.94-.94-2.06-.94 2.06-2.06.94zm-11 1L8.5 8.5l.94-2.06 2.06-.94-2.06-.94L8.5 2.5l-.94 2.06-2.06.94zm10 10l.94 2.06.94-2.06 2.06-.94-2.06-.94-.94-2.06-.94 2.06-2.06.94z\"/><path d=\"M17.41 7.96l-1.37-1.37c-.4-.4-.92-.59-1.43-.59-.52 0-1.04.2-1.43.59L10.3 9.45l-7.72 7.72c-.78.78-.78 2.05 0 2.83L4 21.41c.39.39.9.59 1.41.59.51 0 1.02-.2 1.41-.59l7.78-7.78 2.81-2.81c.8-.78.8-2.07 0-2.86zM5.41 20L4 18.59l7.72-7.72 1.47 1.35L5.41 20z\"/>\n",
              "  </svg>\n",
              "      </button>\n",
              "      \n",
              "  <style>\n",
              "    .colab-df-container {\n",
              "      display:flex;\n",
              "      flex-wrap:wrap;\n",
              "      gap: 12px;\n",
              "    }\n",
              "\n",
              "    .colab-df-convert {\n",
              "      background-color: #E8F0FE;\n",
              "      border: none;\n",
              "      border-radius: 50%;\n",
              "      cursor: pointer;\n",
              "      display: none;\n",
              "      fill: #1967D2;\n",
              "      height: 32px;\n",
              "      padding: 0 0 0 0;\n",
              "      width: 32px;\n",
              "    }\n",
              "\n",
              "    .colab-df-convert:hover {\n",
              "      background-color: #E2EBFA;\n",
              "      box-shadow: 0px 1px 2px rgba(60, 64, 67, 0.3), 0px 1px 3px 1px rgba(60, 64, 67, 0.15);\n",
              "      fill: #174EA6;\n",
              "    }\n",
              "\n",
              "    [theme=dark] .colab-df-convert {\n",
              "      background-color: #3B4455;\n",
              "      fill: #D2E3FC;\n",
              "    }\n",
              "\n",
              "    [theme=dark] .colab-df-convert:hover {\n",
              "      background-color: #434B5C;\n",
              "      box-shadow: 0px 1px 3px 1px rgba(0, 0, 0, 0.15);\n",
              "      filter: drop-shadow(0px 1px 2px rgba(0, 0, 0, 0.3));\n",
              "      fill: #FFFFFF;\n",
              "    }\n",
              "  </style>\n",
              "\n",
              "      <script>\n",
              "        const buttonEl =\n",
              "          document.querySelector('#df-8ae63cb9-4e6a-4898-8041-29196d579240 button.colab-df-convert');\n",
              "        buttonEl.style.display =\n",
              "          google.colab.kernel.accessAllowed ? 'block' : 'none';\n",
              "\n",
              "        async function convertToInteractive(key) {\n",
              "          const element = document.querySelector('#df-8ae63cb9-4e6a-4898-8041-29196d579240');\n",
              "          const dataTable =\n",
              "            await google.colab.kernel.invokeFunction('convertToInteractive',\n",
              "                                                     [key], {});\n",
              "          if (!dataTable) return;\n",
              "\n",
              "          const docLinkHtml = 'Like what you see? Visit the ' +\n",
              "            '<a target=\"_blank\" href=https://colab.research.google.com/notebooks/data_table.ipynb>data table notebook</a>'\n",
              "            + ' to learn more about interactive tables.';\n",
              "          element.innerHTML = '';\n",
              "          dataTable['output_type'] = 'display_data';\n",
              "          await google.colab.output.renderOutput(dataTable, element);\n",
              "          const docLink = document.createElement('div');\n",
              "          docLink.innerHTML = docLinkHtml;\n",
              "          element.appendChild(docLink);\n",
              "        }\n",
              "      </script>\n",
              "    </div>\n",
              "  </div>\n",
              "  "
            ]
          },
          "metadata": {},
          "execution_count": 65
        }
      ],
      "source": [
        "df.groupby(['store_primary_category'])['store_primary_category'].count().to_frame('Count').reset_index().sort_values(by='Count',ascending=False).head(10)"
      ]
    },
    {
      "cell_type": "code",
      "execution_count": null,
      "metadata": {
        "id": "YjhvKUvqdTiZ"
      },
      "outputs": [],
      "source": [
        "data=df.groupby('store_primary_category')['store_primary_category'].count().to_frame('Count').reset_index().sort_values(by='Count',ascending=False).head(10)"
      ]
    },
    {
      "cell_type": "code",
      "execution_count": null,
      "metadata": {
        "id": "LE0uXZLTEX2N",
        "colab": {
          "base_uri": "https://localhost:8080/",
          "height": 334
        },
        "outputId": "6597c604-3fb5-4331-f668-250856bebf54"
      },
      "outputs": [
        {
          "output_type": "execute_result",
          "data": {
            "text/plain": [
              "<matplotlib.axes._subplots.AxesSubplot at 0x7fe9cbc8e760>"
            ]
          },
          "metadata": {},
          "execution_count": 67
        },
        {
          "output_type": "display_data",
          "data": {
            "text/plain": [
              "<Figure size 432x288 with 1 Axes>"
            ],
            "image/png": "[encoded data removed]"
          },
          "metadata": {
            "needs_background": "light"
          }
        }
      ],
      "source": [
        "## Top 10 store prime categories\n",
        "data.plot.bar(x='store_primary_category',y='Count')"
      ]
    },
    {
      "cell_type": "code",
      "execution_count": null,
      "metadata": {
        "id": "4PB2ukILE6wv",
        "colab": {
          "base_uri": "https://localhost:8080/",
          "height": 297
        },
        "outputId": "130150bf-c59e-4bb8-b3c5-7bd7a362ebfb"
      },
      "outputs": [
        {
          "output_type": "execute_result",
          "data": {
            "text/plain": [
              "<matplotlib.axes._subplots.AxesSubplot at 0x7fe9cf3c6790>"
            ]
          },
          "metadata": {},
          "execution_count": 68
        },
        {
          "output_type": "display_data",
          "data": {
            "text/plain": [
              "<Figure size 432x288 with 1 Axes>"
            ],
            "image/png": "[encoded data removed]"
          },
          "metadata": {
            "needs_background": "light"
          }
        }
      ],
      "source": [
        "## Majority of the orders placed by protocol 1\n",
        "sns.countplot(df['order_protocol'])"
      ]
    },
    {
      "cell_type": "code",
      "execution_count": null,
      "metadata": {
        "id": "yQmHSu4_G5Dd",
        "colab": {
          "base_uri": "https://localhost:8080/",
          "height": 334
        },
        "outputId": "749c0fad-dc47-4adf-a364-b1455d723a1a"
      },
      "outputs": [
        {
          "output_type": "execute_result",
          "data": {
            "text/plain": [
              "(array([0, 1, 2, 3, 4, 5, 6]), <a list of 7 Text major ticklabel objects>)"
            ]
          },
          "metadata": {},
          "execution_count": 69
        },
        {
          "output_type": "display_data",
          "data": {
            "text/plain": [
              "<Figure size 432x288 with 1 Axes>"
            ],
            "image/png": "[encoded data removed]"
          },
          "metadata": {
            "needs_background": "light"
          }
        }
      ],
      "source": [
        "## Orders were placed in large numbers on the weekends.\n",
        "sns.countplot(df['weekday'])\n",
        "plt.xticks(rotation=45)"
      ]
    },
    {
      "cell_type": "code",
      "execution_count": null,
      "metadata": {
        "id": "_xtQxhtyHSUN",
        "colab": {
          "base_uri": "https://localhost:8080/",
          "height": 320
        },
        "outputId": "067296f7-b7d7-44cf-993b-d9e2215a8e9d"
      },
      "outputs": [
        {
          "output_type": "execute_result",
          "data": {
            "text/plain": [
              "(array([ 0,  1,  2,  3,  4,  5,  6,  7,  8,  9, 10, 11, 12, 13, 14, 15, 16,\n",
              "        17, 18]), <a list of 19 Text major ticklabel objects>)"
            ]
          },
          "metadata": {},
          "execution_count": 70
        },
        {
          "output_type": "display_data",
          "data": {
            "text/plain": [
              "<Figure size 432x288 with 1 Axes>"
            ],
            "image/png": "[encoded data removed]"
          },
          "metadata": {
            "needs_background": "light"
          }
        }
      ],
      "source": [
        "## At 12 to 3 in the morning, there were a lot of orders, and there were fewer at midday.\n",
        "sns.countplot(df['hour'])\n",
        "plt.xticks(rotation=45)"
      ]
    },
    {
      "cell_type": "code",
      "execution_count": null,
      "metadata": {
        "id": "sCJtzZAPIHKU",
        "colab": {
          "base_uri": "https://localhost:8080/",
          "height": 297
        },
        "outputId": "bc35d69c-8c8f-4c1d-d816-81f98852ce60"
      },
      "outputs": [
        {
          "output_type": "execute_result",
          "data": {
            "text/plain": [
              "<matplotlib.axes._subplots.AxesSubplot at 0x7fe9cb20b4c0>"
            ]
          },
          "metadata": {},
          "execution_count": 71
        },
        {
          "output_type": "display_data",
          "data": {
            "text/plain": [
              "<Figure size 432x288 with 1 Axes>"
            ],
            "image/png": "[encoded data removed]"
          },
          "metadata": {
            "needs_background": "light"
          }
        }
      ],
      "source": [
        "## a relatively small number of orders have received discounts.\n",
        "sns.countplot(df['discount_coupon_applied'])"
      ]
    },
    {
      "cell_type": "code",
      "execution_count": null,
      "metadata": {
        "id": "HfD03vBDI2ns",
        "colab": {
          "base_uri": "https://localhost:8080/",
          "height": 406
        },
        "outputId": "2a46a09f-4c06-4e2e-9b4c-383729c5a031"
      },
      "outputs": [
        {
          "output_type": "execute_result",
          "data": {
            "text/plain": [
              "<matplotlib.axes._subplots.AxesSubplot at 0x7fe9cb164b50>"
            ]
          },
          "metadata": {},
          "execution_count": 72
        },
        {
          "output_type": "display_data",
          "data": {
            "text/plain": [
              "<Figure size 1080x432 with 1 Axes>"
            ],
            "image/png": "[encoded data removed]"
          },
          "metadata": {
            "needs_background": "light"
          }
        }
      ],
      "source": [
        "## The majority of orders were delivered in 40 to 50 minutes.\n",
        "plt.figure(figsize=(15,6))\n",
        "sns.histplot(df['delivery_time_taken_mins'],kde=True,bins=100)"
      ]
    },
    {
      "cell_type": "code",
      "execution_count": null,
      "metadata": {
        "id": "mlv86iXFJZKp",
        "colab": {
          "base_uri": "https://localhost:8080/",
          "height": 338
        },
        "outputId": "52e405a5-9511-4de2-f627-047b5362acc4"
      },
      "outputs": [
        {
          "output_type": "execute_result",
          "data": {
            "text/plain": [
              "(array([ 0,  1,  2,  3,  4,  5,  6,  7,  8,  9, 10, 11, 12, 13, 14, 15, 16,\n",
              "        17, 18, 19, 20, 21, 22, 23, 24, 25, 26, 27, 28, 29, 30]),\n",
              " <a list of 31 Text major ticklabel objects>)"
            ]
          },
          "metadata": {},
          "execution_count": 73
        },
        {
          "output_type": "display_data",
          "data": {
            "text/plain": [
              "<Figure size 432x288 with 1 Axes>"
            ],
            "image/png": "[encoded data removed]"
          },
          "metadata": {
            "needs_background": "light"
          }
        }
      ],
      "source": [
        "## Majority of the orders contain 2 items\n",
        "sns.countplot(df['total_items'])\n",
        "plt.xticks(rotation=45)"
      ]
    },
    {
      "cell_type": "code",
      "execution_count": null,
      "metadata": {
        "id": "PpmxHTDVLFCR",
        "colab": {
          "base_uri": "https://localhost:8080/",
          "height": 406
        },
        "outputId": "e995e134-d4ca-468e-dce3-ed264c522ca0"
      },
      "outputs": [
        {
          "output_type": "execute_result",
          "data": {
            "text/plain": [
              "<matplotlib.axes._subplots.AxesSubplot at 0x7fe9cb1ff760>"
            ]
          },
          "metadata": {},
          "execution_count": 74
        },
        {
          "output_type": "display_data",
          "data": {
            "text/plain": [
              "<Figure size 432x288 with 2 Axes>"
            ],
            "image/png": "[encoded data removed]"
          },
          "metadata": {
            "needs_background": "light"
          }
        }
      ],
      "source": [
        "## there is not any strong correlation between the delivery time and other features\n",
        "sns.heatmap(df.corr(),annot=True)"
      ]
    },
    {
      "cell_type": "code",
      "execution_count": null,
      "metadata": {
        "id": "9wRm8VdSLtLt",
        "colab": {
          "base_uri": "https://localhost:8080/"
        },
        "outputId": "9517e7e6-5546-4576-c707-c4af5a970769"
      },
      "outputs": [
        {
          "output_type": "execute_result",
          "data": {
            "text/plain": [
              "market_id\n",
              "1.0    52.309044\n",
              "2.0    46.208370\n",
              "3.0    48.133550\n",
              "4.0    47.425914\n",
              "5.0    47.305568\n",
              "6.0    48.141880\n",
              "Name: delivery_time_taken_mins, dtype: float64"
            ]
          },
          "metadata": {},
          "execution_count": 75
        }
      ],
      "source": [
        "## The orders coming from market ID 1 took longer to deliver.\n",
        "df.groupby('market_id')['delivery_time_taken_mins'].mean()"
      ]
    },
    {
      "cell_type": "code",
      "execution_count": null,
      "metadata": {
        "id": "979fLrqOMYos",
        "colab": {
          "base_uri": "https://localhost:8080/",
          "height": 458
        },
        "outputId": "c5c5752d-d6ef-4f95-e71e-8ecf42ecd6e1"
      },
      "outputs": [
        {
          "output_type": "execute_result",
          "data": {
            "text/plain": [
              "<seaborn.axisgrid.JointGrid at 0x7fe9cae99040>"
            ]
          },
          "metadata": {},
          "execution_count": 76
        },
        {
          "output_type": "display_data",
          "data": {
            "text/plain": [
              "<Figure size 432x432 with 3 Axes>"
            ],
            "image/png": "[encoded data removed]"
          },
          "metadata": {
            "needs_background": "light"
          }
        }
      ],
      "source": [
        "## On average, orders ordered between 4pm and 9pm took longer to deliver.\n",
        "sns.jointplot(data=df,x='delivery_time_taken_mins',y='hour',hue='market_id')"
      ]
    },
    {
      "cell_type": "code",
      "execution_count": null,
      "metadata": {
        "id": "SnapFZ1hN5jz",
        "colab": {
          "base_uri": "https://localhost:8080/",
          "height": 352
        },
        "outputId": "ae274ff2-d985-408e-921c-3745c2cfa934"
      },
      "outputs": [
        {
          "output_type": "execute_result",
          "data": {
            "text/plain": [
              "<matplotlib.axes._subplots.AxesSubplot at 0x7fe9cadc0d30>"
            ]
          },
          "metadata": {},
          "execution_count": 77
        },
        {
          "output_type": "display_data",
          "data": {
            "text/plain": [
              "<Figure size 864x360 with 1 Axes>"
            ],
            "image/png": "[encoded data removed]"
          },
          "metadata": {
            "needs_background": "light"
          }
        }
      ],
      "source": [
        "plt.figure(figsize=(12,5))\n",
        "sns.lineplot(x='total_outstanding_orders',y='delivery_time_taken_mins',data=df)"
      ]
    },
    {
      "cell_type": "code",
      "execution_count": null,
      "metadata": {
        "id": "BGE0xgeoOWMj",
        "colab": {
          "base_uri": "https://localhost:8080/",
          "height": 132
        },
        "outputId": "5095992f-680e-4af0-a0cd-4b4b4ad71406"
      },
      "outputs": [
        {
          "output_type": "execute_result",
          "data": {
            "text/plain": [
              "<seaborn.axisgrid.PairGrid at 0x7fe9cad90160>"
            ]
          },
          "metadata": {},
          "execution_count": 78
        },
        {
          "output_type": "display_data",
          "data": {
            "text/plain": [
              "<Figure size 2340x180 with 14 Axes>"
            ],
            "image/png": "[encoded data removed]"
          },
          "metadata": {
            "needs_background": "light"
          }
        }
      ],
      "source": [
        "sns.pairplot(df,y_vars=['delivery_time_taken_mins'])"
      ]
    },
    {
      "cell_type": "code",
      "execution_count": null,
      "metadata": {
        "id": "dLvhdYOFRE6f",
        "colab": {
          "base_uri": "https://localhost:8080/"
        },
        "outputId": "1fea9bda-3b5a-4f9c-f8f0-025b982de589"
      },
      "outputs": [
        {
          "output_type": "execute_result",
          "data": {
            "text/plain": [
              "store_primary_category\n",
              "american    48.688717\n",
              "burger      47.480499\n",
              "chinese     48.307068\n",
              "dessert     49.277876\n",
              "indian      49.535918\n",
              "italian     50.627182\n",
              "japanese    52.585243\n",
              "mexican     44.598365\n",
              "pizza       51.642361\n",
              "sandwich    44.686286\n",
              "Name: delivery_time_taken_mins, dtype: float64"
            ]
          },
          "metadata": {},
          "execution_count": 79
        }
      ],
      "source": [
        "## Deliveries of orders for Japanese food took longer.\n",
        "df.loc[df['store_primary_category'].isin(data['store_primary_category'])].groupby(['store_primary_category'])['delivery_time_taken_mins'].mean()"
      ]
    },
    {
      "cell_type": "markdown",
      "metadata": {
        "id": "CGVJTdZvVVHp"
      },
      "source": [
        "## Categorical variables encoding(OHE)"
      ]
    },
    {
      "cell_type": "code",
      "execution_count": null,
      "metadata": {
        "id": "iV1SoptTS8JF"
      },
      "outputs": [],
      "source": [
        "df=df.select_dtypes(exclude=['datetime64[ns]'])"
      ]
    },
    {
      "cell_type": "code",
      "execution_count": null,
      "metadata": {
        "id": "4ohGaWjBWHSj"
      },
      "outputs": [],
      "source": [
        "cols=df.columns"
      ]
    },
    {
      "cell_type": "code",
      "execution_count": null,
      "metadata": {
        "id": "nnU3TEiDYke8"
      },
      "outputs": [],
      "source": [
        "cat_cols=df.select_dtypes(include=[\"object\"]).columns"
      ]
    },
    {
      "cell_type": "code",
      "execution_count": null,
      "metadata": {
        "id": "oj9bq8BuZmVJ"
      },
      "outputs": [],
      "source": [
        "cat_cols=list(filter(lambda x:x!='store_primary_category',cat_cols))"
      ]
    },
    {
      "cell_type": "code",
      "execution_count": null,
      "metadata": {
        "id": "prsQ3oADatJm"
      },
      "outputs": [],
      "source": [
        "df=pd.get_dummies(df,columns=cat_cols)"
      ]
    },
    {
      "cell_type": "markdown",
      "metadata": {
        "id": "hpIjCPhNbVjA"
      },
      "source": [
        "## Splitting train test data"
      ]
    },
    {
      "cell_type": "code",
      "execution_count": null,
      "metadata": {
        "id": "5nSLEWGJbB8g"
      },
      "outputs": [],
      "source": [
        "y=df['delivery_time_taken_mins']\n",
        "X=df.drop('delivery_time_taken_mins',axis=1)"
      ]
    },
    {
      "cell_type": "code",
      "execution_count": null,
      "metadata": {
        "id": "PNA7OuS_bKYB",
        "colab": {
          "base_uri": "https://localhost:8080/"
        },
        "outputId": "c80908ac-d30c-4f3c-d405-2519b473e8dd"
      },
      "outputs": [
        {
          "output_type": "execute_result",
          "data": {
            "text/plain": [
              "Index(['store_primary_category', 'total_items', 'subtotal',\n",
              "       'num_distinct_items', 'min_item_price', 'max_item_price',\n",
              "       'total_onshift_partners', 'total_busy_partners',\n",
              "       'total_outstanding_orders', 'market_id_1.0', 'market_id_2.0',\n",
              "       'market_id_3.0', 'market_id_4.0', 'market_id_5.0', 'market_id_6.0',\n",
              "       'order_protocol_0.0', 'order_protocol_1.0', 'order_protocol_2.0',\n",
              "       'order_protocol_3.0', 'order_protocol_4.0', 'order_protocol_5.0',\n",
              "       'order_protocol_6.0', 'order_protocol_7.0', 'weekday_Friday',\n",
              "       'weekday_Monday', 'weekday_Saturday', 'weekday_Sunday',\n",
              "       'weekday_Thursday', 'weekday_Tuesday', 'weekday_Wednesday', 'hour_0',\n",
              "       'hour_1', 'hour_2', 'hour_3', 'hour_4', 'hour_5', 'hour_6', 'hour_7',\n",
              "       'hour_8', 'hour_14', 'hour_15', 'hour_16', 'hour_17', 'hour_18',\n",
              "       'hour_19', 'hour_20', 'hour_21', 'hour_22', 'hour_23',\n",
              "       'discount_coupon_applied_0', 'discount_coupon_applied_1'],\n",
              "      dtype='object')"
            ]
          },
          "metadata": {},
          "execution_count": 86
        }
      ],
      "source": [
        "X.columns"
      ]
    },
    {
      "cell_type": "code",
      "execution_count": null,
      "metadata": {
        "id": "X26xSjWabqF_"
      },
      "outputs": [],
      "source": [
        "from sklearn.model_selection import train_test_split"
      ]
    },
    {
      "cell_type": "code",
      "execution_count": null,
      "metadata": {
        "id": "AWofRyLVcDsd"
      },
      "outputs": [],
      "source": [
        "X_train, X_test, y_train, y_test = train_test_split(X, y, test_size=0.20, random_state=42)"
      ]
    },
    {
      "cell_type": "markdown",
      "metadata": {
        "id": "dpSEuUO6cMpq"
      },
      "source": [
        "## Target encoding for store_primary_category"
      ]
    },
    {
      "cell_type": "code",
      "execution_count": null,
      "metadata": {
        "id": "E94nWFpIcKg-"
      },
      "outputs": [],
      "source": [
        "df1=X_train.copy()"
      ]
    },
    {
      "cell_type": "code",
      "execution_count": null,
      "metadata": {
        "id": "frSWcKDJcYb7"
      },
      "outputs": [],
      "source": [
        "df1['target']=y_train"
      ]
    },
    {
      "cell_type": "code",
      "execution_count": null,
      "metadata": {
        "id": "Dnj3IUqGcgw9"
      },
      "outputs": [],
      "source": [
        "target=df1.groupby('store_primary_category')['target'].mean().to_frame('mean').reset_index()"
      ]
    },
    {
      "cell_type": "code",
      "execution_count": null,
      "metadata": {
        "id": "IAg4phJfhRfs"
      },
      "outputs": [],
      "source": [
        "arr=target.values.tolist()\n",
        "obj={}\n",
        "for i in arr:\n",
        "    obj[i[0]]=i[1]"
      ]
    },
    {
      "cell_type": "code",
      "execution_count": null,
      "metadata": {
        "id": "CsP9gH3ah3gE"
      },
      "outputs": [],
      "source": [
        "X_train['store_primary_category']=X_train['store_primary_category'].apply(lambda x:obj[x])"
      ]
    },
    {
      "cell_type": "code",
      "execution_count": null,
      "metadata": {
        "id": "uxYe3GTXepQT"
      },
      "outputs": [],
      "source": [
        "X_test['store_primary_category']=X_test['store_primary_category'].apply(lambda x:obj[x])"
      ]
    },
    {
      "cell_type": "markdown",
      "metadata": {
        "id": "-NqodfaqilQh"
      },
      "source": [
        "## Scaling"
      ]
    },
    {
      "cell_type": "code",
      "execution_count": null,
      "metadata": {
        "id": "_sj3FqhIieLe"
      },
      "outputs": [],
      "source": [
        "train_cols=X_train.columns"
      ]
    },
    {
      "cell_type": "code",
      "execution_count": null,
      "metadata": {
        "id": "UBg8cTq6iuOx",
        "colab": {
          "base_uri": "https://localhost:8080/"
        },
        "outputId": "9e12637e-3093-42e7-8e8c-5fc8b3c08112"
      },
      "outputs": [
        {
          "output_type": "execute_result",
          "data": {
            "text/plain": [
              "StandardScaler()"
            ]
          },
          "metadata": {},
          "execution_count": 96
        }
      ],
      "source": [
        "scaler = StandardScaler()   # I have not followed above discussion\n",
        "scaler.fit(X_train)"
      ]
    },
    {
      "cell_type": "code",
      "execution_count": null,
      "metadata": {
        "colab": {
          "base_uri": "https://localhost:8080/"
        },
        "id": "pr-KaDCASXvc",
        "outputId": "ddd361ee-3ac3-4c67-c55f-fbca44bdfa1e"
      },
      "outputs": [
        {
          "output_type": "execute_result",
          "data": {
            "text/plain": [
              "Index(['store_primary_category', 'total_items', 'subtotal',\n",
              "       'num_distinct_items', 'min_item_price', 'max_item_price',\n",
              "       'total_onshift_partners', 'total_busy_partners',\n",
              "       'total_outstanding_orders', 'market_id_1.0', 'market_id_2.0',\n",
              "       'market_id_3.0', 'market_id_4.0', 'market_id_5.0', 'market_id_6.0',\n",
              "       'order_protocol_0.0', 'order_protocol_1.0', 'order_protocol_2.0',\n",
              "       'order_protocol_3.0', 'order_protocol_4.0', 'order_protocol_5.0',\n",
              "       'order_protocol_6.0', 'order_protocol_7.0', 'weekday_Friday',\n",
              "       'weekday_Monday', 'weekday_Saturday', 'weekday_Sunday',\n",
              "       'weekday_Thursday', 'weekday_Tuesday', 'weekday_Wednesday', 'hour_0',\n",
              "       'hour_1', 'hour_2', 'hour_3', 'hour_4', 'hour_5', 'hour_6', 'hour_7',\n",
              "       'hour_8', 'hour_14', 'hour_15', 'hour_16', 'hour_17', 'hour_18',\n",
              "       'hour_19', 'hour_20', 'hour_21', 'hour_22', 'hour_23',\n",
              "       'discount_coupon_applied_0', 'discount_coupon_applied_1'],\n",
              "      dtype='object')"
            ]
          },
          "metadata": {},
          "execution_count": 97
        }
      ],
      "source": [
        "train_cols"
      ]
    },
    {
      "cell_type": "code",
      "execution_count": null,
      "metadata": {
        "id": "CJPSq0U9jEiY"
      },
      "outputs": [],
      "source": [
        "x_train_scaled=scaler.transform(X_train)"
      ]
    },
    {
      "cell_type": "code",
      "execution_count": null,
      "metadata": {
        "id": "LtG_hZ9HjHz6"
      },
      "outputs": [],
      "source": [
        "x_test_scaled=scaler.transform(X_test)"
      ]
    },
    {
      "cell_type": "code",
      "execution_count": null,
      "metadata": {
        "id": "HD8tFGaujYFM"
      },
      "outputs": [],
      "source": [
        "y_train_mean=y_train.mean()\n",
        "y_train_std=y_train.std()"
      ]
    },
    {
      "cell_type": "code",
      "execution_count": null,
      "metadata": {
        "id": "WKysK8_ZjelV"
      },
      "outputs": [],
      "source": [
        "y_train_scaled=(y_train-y_train_mean)/y_train_std"
      ]
    },
    {
      "cell_type": "code",
      "execution_count": null,
      "metadata": {
        "id": "Y1Gid3d3j399"
      },
      "outputs": [],
      "source": [
        "y_test_scaled=(y_test-y_train_mean)/y_train_std"
      ]
    },
    {
      "cell_type": "code",
      "execution_count": null,
      "metadata": {
        "id": "BcVwhPNlj__l",
        "colab": {
          "base_uri": "https://localhost:8080/"
        },
        "outputId": "a1c4ecdd-51c5-4c43-c375-3025d1c43d80"
      },
      "outputs": [
        {
          "output_type": "execute_result",
          "data": {
            "text/plain": [
              "36156    -0.220355\n",
              "8109      0.197776\n",
              "145774   -0.063556\n",
              "70826     0.354575\n",
              "106730    0.197776\n",
              "            ...   \n",
              "6659     -1.317948\n",
              "158737   -0.220355\n",
              "136226    0.145509\n",
              "10053    -0.168089\n",
              "94583     0.040977\n",
              "Name: delivery_time_taken_mins, Length: 31766, dtype: float64"
            ]
          },
          "metadata": {},
          "execution_count": 103
        }
      ],
      "source": [
        "y_test_scaled"
      ]
    },
    {
      "cell_type": "markdown",
      "metadata": {
        "id": "vanz1ZemwJem"
      },
      "source": [
        "## Modeling: Random Forest"
      ]
    },
    {
      "cell_type": "code",
      "execution_count": null,
      "metadata": {
        "id": "OwXzZ5Vivdi4"
      },
      "outputs": [],
      "source": [
        "from sklearn.ensemble import RandomForestRegressor\n",
        "from sklearn.model_selection import GridSearchCV"
      ]
    },
    {
      "cell_type": "code",
      "execution_count": null,
      "metadata": {
        "id": "vB1It4ppx6eu"
      },
      "outputs": [],
      "source": [
        "rfr=RandomForestRegressor(random_state=42,n_estimators=300,max_depth=7)"
      ]
    },
    {
      "cell_type": "code",
      "execution_count": null,
      "metadata": {
        "id": "HXAwRUHzMS2L",
        "colab": {
          "base_uri": "https://localhost:8080/"
        },
        "outputId": "38e2d7e5-c2c0-497e-c1c4-28342f4d1389"
      },
      "outputs": [
        {
          "output_type": "execute_result",
          "data": {
            "text/plain": [
              "RandomForestRegressor(max_depth=7, n_estimators=300, random_state=42)"
            ]
          },
          "metadata": {},
          "execution_count": 106
        }
      ],
      "source": [
        "rfr.fit(x_train_scaled,y_train_scaled.values)"
      ]
    },
    {
      "cell_type": "markdown",
      "metadata": {
        "id": "qFfZ8WVd1RkE"
      },
      "source": [
        "### Check accuracy score"
      ]
    },
    {
      "cell_type": "code",
      "execution_count": null,
      "metadata": {
        "id": "V8V_YUSPFtXk"
      },
      "outputs": [],
      "source": [
        "from sklearn.metrics import mean_squared_error"
      ]
    },
    {
      "cell_type": "code",
      "execution_count": null,
      "metadata": {
        "id": "tIqZ_uP613mC"
      },
      "outputs": [],
      "source": [
        "def evaluate_metrics(y_pred_test):\n",
        "    mse=mean_squared_error(y_test_scaled, y_pred_test)\n",
        "    print(\"Mean squared error for test data is\",mse)\n",
        "    rmse=mse**0.5\n",
        "    print(\"Root mean squared error for test data is\",rmse)\n",
        "    mape=np.mean(np.abs((y_test_scaled-y_pred_test)/y_test_scaled))\n",
        "    print(\"Mean absolute precentage error for test data is\",mape)"
      ]
    },
    {
      "cell_type": "code",
      "execution_count": null,
      "metadata": {
        "id": "57vWE6nz1tfu",
        "colab": {
          "base_uri": "https://localhost:8080/"
        },
        "outputId": "ac6ec809-37f9-43f2-8bc9-e4d56db6288b"
      },
      "outputs": [
        {
          "output_type": "execute_result",
          "data": {
            "text/plain": [
              "array([0.31094557, 0.68584516, 0.40076547, ..., 0.10826747, 0.18048527,\n",
              "       0.36336121])"
            ]
          },
          "metadata": {},
          "execution_count": 109
        }
      ],
      "source": [
        "y_pred_test = rfr.predict(x_test_scaled)\n",
        "y_pred_test"
      ]
    },
    {
      "cell_type": "code",
      "execution_count": null,
      "metadata": {
        "id": "4ldtOWvA9p9L",
        "colab": {
          "base_uri": "https://localhost:8080/"
        },
        "outputId": "7164f78a-48b8-4b4a-915c-515f252a4dc8"
      },
      "outputs": [
        {
          "output_type": "stream",
          "name": "stdout",
          "text": [
            "Mean squared error for test data is 0.7634684128980168\n",
            "Root mean squared error for test data is 0.873766795488371\n",
            "Mean absolute precentage error for test data is 1.7556181512326254\n"
          ]
        }
      ],
      "source": [
        "evaluate_metrics(y_pred_test)"
      ]
    },
    {
      "cell_type": "markdown",
      "metadata": {
        "id": "-CEQxsWr24wM"
      },
      "source": [
        "## Modeling: Neural Networks"
      ]
    },
    {
      "cell_type": "code",
      "execution_count": null,
      "metadata": {
        "id": "1bC8vzq9SXvi"
      },
      "outputs": [],
      "source": [
        "#!pip install tensorflow"
      ]
    },
    {
      "cell_type": "code",
      "execution_count": null,
      "metadata": {
        "id": "pQAmA7JQ24CL"
      },
      "outputs": [],
      "source": [
        "from tensorflow.keras.models import Sequential\n",
        "from tensorflow.keras.layers import Dense\n",
        "from tensorflow.keras.callbacks import ModelCheckpoint\n",
        "import matplotlib.pyplot as plt\n",
        "import numpy as np\n",
        "import tensorflow as tf\n",
        "seed = 42\n",
        "tf.random.set_seed(seed)"
      ]
    },
    {
      "cell_type": "markdown",
      "metadata": {
        "id": "1_IVQpeW7cTL"
      },
      "source": [
        "### Neural Network - 1 hidden layer"
      ]
    },
    {
      "cell_type": "code",
      "execution_count": null,
      "metadata": {
        "id": "gXzg9Z3j7Z1l",
        "colab": {
          "base_uri": "https://localhost:8080/"
        },
        "outputId": "6d154462-f463-4605-c0ef-19dddea2cdf6"
      },
      "outputs": [
        {
          "output_type": "stream",
          "name": "stdout",
          "text": [
            "Model: \"sequential\"\n",
            "_________________________________________________________________\n",
            " Layer (type)                Output Shape              Param #   \n",
            "=================================================================\n",
            " dense (Dense)               (None, 128)               6656      \n",
            "                                                                 \n",
            " dense_1 (Dense)             (None, 64)                8256      \n",
            "                                                                 \n",
            " dense_2 (Dense)             (None, 1)                 65        \n",
            "                                                                 \n",
            "=================================================================\n",
            "Total params: 14,977\n",
            "Trainable params: 14,977\n",
            "Non-trainable params: 0\n",
            "_________________________________________________________________\n"
          ]
        }
      ],
      "source": [
        "NN_model = Sequential()\n",
        "\n",
        "# The Input Layer :\n",
        "NN_model.add(Dense(128, kernel_initializer='normal',input_dim = x_train_scaled.shape[1], activation='relu'))\n",
        "\n",
        "# The Hidden Layers :\n",
        "NN_model.add(Dense(64, kernel_initializer='normal',activation='relu'))\n",
        "\n",
        "# The Output Layer :\n",
        "NN_model.add(Dense(1, kernel_initializer='normal',activation='linear'))\n",
        "\n",
        "# Compile the network :\n",
        "history=NN_model.compile(loss='mse', optimizer='adam', metrics=['mse','mae'])\n",
        "NN_model.summary()"
      ]
    },
    {
      "cell_type": "code",
      "execution_count": null,
      "metadata": {
        "id": "d0rcoDu186dQ"
      },
      "outputs": [],
      "source": [
        "checkpoint_name = 'Weights-{epoch:03d}--{val_loss:.5f}.hdf5'\n",
        "checkpoint = ModelCheckpoint(checkpoint_name, monitor='val_loss', verbose = 1, save_best_only = True, mode ='auto')\n",
        "es = tf.keras.callbacks.EarlyStopping(monitor='val_loss', patience=6)\n",
        "callbacks_list = [es,checkpoint]"
      ]
    },
    {
      "cell_type": "code",
      "execution_count": null,
      "metadata": {
        "id": "w33Y6iV49Ccx",
        "scrolled": true,
        "colab": {
          "base_uri": "https://localhost:8080/"
        },
        "outputId": "4921e2ea-d4b1-48d7-c09f-a2ee4fff55e2"
      },
      "outputs": [
        {
          "output_type": "stream",
          "name": "stdout",
          "text": [
            "Epoch 1/30\n",
            "678/678 [==============================] - 2s 2ms/step - loss: 0.8179 - mse: 0.8179 - mae: 0.6222 - val_loss: 0.7617 - val_mse: 0.7617 - val_mae: 0.6175\n",
            "Epoch 2/30\n",
            "678/678 [==============================] - 1s 2ms/step - loss: 0.7658 - mse: 0.7658 - mae: 0.6000 - val_loss: 0.7352 - val_mse: 0.7352 - val_mae: 0.5951\n",
            "Epoch 3/30\n",
            "678/678 [==============================] - 1s 2ms/step - loss: 0.7580 - mse: 0.7580 - mae: 0.5965 - val_loss: 0.7329 - val_mse: 0.7329 - val_mae: 0.5928\n",
            "Epoch 4/30\n",
            "678/678 [==============================] - 1s 2ms/step - loss: 0.7613 - mse: 0.7613 - mae: 0.5939 - val_loss: 0.7381 - val_mse: 0.7381 - val_mae: 0.6056\n",
            "Epoch 5/30\n",
            "678/678 [==============================] - 1s 2ms/step - loss: 0.7527 - mse: 0.7527 - mae: 0.5926 - val_loss: 0.7315 - val_mse: 0.7315 - val_mae: 0.6023\n",
            "Epoch 6/30\n",
            "678/678 [==============================] - 1s 2ms/step - loss: 0.7443 - mse: 0.7443 - mae: 0.5909 - val_loss: 0.7314 - val_mse: 0.7314 - val_mae: 0.5878\n",
            "Epoch 7/30\n",
            "678/678 [==============================] - 2s 3ms/step - loss: 0.7392 - mse: 0.7392 - mae: 0.5894 - val_loss: 0.7279 - val_mse: 0.7279 - val_mae: 0.5912\n",
            "Epoch 8/30\n",
            "678/678 [==============================] - 1s 2ms/step - loss: 0.7363 - mse: 0.7363 - mae: 0.5881 - val_loss: 0.7227 - val_mse: 0.7227 - val_mae: 0.5928\n",
            "Epoch 9/30\n",
            "678/678 [==============================] - 1s 2ms/step - loss: 0.7339 - mse: 0.7339 - mae: 0.5873 - val_loss: 0.7270 - val_mse: 0.7270 - val_mae: 0.5971\n",
            "Epoch 10/30\n",
            "678/678 [==============================] - 1s 2ms/step - loss: 0.7323 - mse: 0.7323 - mae: 0.5871 - val_loss: 0.7298 - val_mse: 0.7298 - val_mae: 0.5890\n",
            "Epoch 11/30\n",
            "678/678 [==============================] - 1s 2ms/step - loss: 0.7298 - mse: 0.7298 - mae: 0.5858 - val_loss: 0.7256 - val_mse: 0.7256 - val_mae: 0.5916\n",
            "Epoch 12/30\n",
            "678/678 [==============================] - 1s 2ms/step - loss: 0.7272 - mse: 0.7272 - mae: 0.5843 - val_loss: 0.7267 - val_mse: 0.7267 - val_mae: 0.5917\n",
            "Epoch 13/30\n",
            "678/678 [==============================] - 1s 2ms/step - loss: 0.7264 - mse: 0.7264 - mae: 0.5842 - val_loss: 0.7290 - val_mse: 0.7290 - val_mae: 0.5942\n",
            "Epoch 14/30\n",
            "678/678 [==============================] - 1s 2ms/step - loss: 0.7218 - mse: 0.7218 - mae: 0.5834 - val_loss: 0.7289 - val_mse: 0.7289 - val_mae: 0.5948\n",
            "Epoch 15/30\n",
            "678/678 [==============================] - 2s 2ms/step - loss: 0.7202 - mse: 0.7202 - mae: 0.5821 - val_loss: 0.7352 - val_mse: 0.7352 - val_mae: 0.6014\n",
            "Epoch 16/30\n",
            "678/678 [==============================] - 2s 2ms/step - loss: 0.7187 - mse: 0.7187 - mae: 0.5813 - val_loss: 0.7255 - val_mse: 0.7255 - val_mae: 0.5957\n",
            "Epoch 17/30\n",
            "678/678 [==============================] - 1s 2ms/step - loss: 0.7160 - mse: 0.7160 - mae: 0.5805 - val_loss: 0.7277 - val_mse: 0.7277 - val_mae: 0.5993\n",
            "Epoch 18/30\n",
            "678/678 [==============================] - 1s 2ms/step - loss: 0.7114 - mse: 0.7114 - mae: 0.5800 - val_loss: 0.7294 - val_mse: 0.7294 - val_mae: 0.5980\n",
            "Epoch 19/30\n",
            "678/678 [==============================] - 1s 2ms/step - loss: 0.7084 - mse: 0.7084 - mae: 0.5790 - val_loss: 0.7345 - val_mse: 0.7345 - val_mae: 0.5998\n",
            "Epoch 20/30\n",
            "678/678 [==============================] - 1s 2ms/step - loss: 0.7071 - mse: 0.7071 - mae: 0.5782 - val_loss: 0.7261 - val_mse: 0.7261 - val_mae: 0.5927\n",
            "Epoch 21/30\n",
            "678/678 [==============================] - 1s 2ms/step - loss: 0.7076 - mse: 0.7076 - mae: 0.5776 - val_loss: 0.7432 - val_mse: 0.7432 - val_mae: 0.6120\n",
            "Epoch 22/30\n",
            "678/678 [==============================] - 1s 2ms/step - loss: 0.7022 - mse: 0.7022 - mae: 0.5769 - val_loss: 0.7377 - val_mse: 0.7377 - val_mae: 0.5954\n",
            "Epoch 23/30\n",
            "678/678 [==============================] - 2s 2ms/step - loss: 0.7009 - mse: 0.7009 - mae: 0.5762 - val_loss: 0.7406 - val_mse: 0.7406 - val_mae: 0.5995\n",
            "Epoch 24/30\n",
            "678/678 [==============================] - 2s 2ms/step - loss: 0.6973 - mse: 0.6973 - mae: 0.5748 - val_loss: 0.7364 - val_mse: 0.7364 - val_mae: 0.6033\n",
            "Epoch 25/30\n",
            "678/678 [==============================] - 1s 2ms/step - loss: 0.6963 - mse: 0.6963 - mae: 0.5750 - val_loss: 0.7339 - val_mse: 0.7339 - val_mae: 0.5989\n",
            "Epoch 26/30\n",
            "678/678 [==============================] - 1s 2ms/step - loss: 0.6926 - mse: 0.6926 - mae: 0.5735 - val_loss: 0.7336 - val_mse: 0.7336 - val_mae: 0.5983\n",
            "Epoch 27/30\n",
            "678/678 [==============================] - 1s 2ms/step - loss: 0.6892 - mse: 0.6892 - mae: 0.5727 - val_loss: 0.7392 - val_mse: 0.7392 - val_mae: 0.5964\n",
            "Epoch 28/30\n",
            "678/678 [==============================] - 1s 2ms/step - loss: 0.6867 - mse: 0.6867 - mae: 0.5724 - val_loss: 0.7420 - val_mse: 0.7420 - val_mae: 0.6054\n",
            "Epoch 29/30\n",
            "678/678 [==============================] - 1s 2ms/step - loss: 0.6855 - mse: 0.6855 - mae: 0.5722 - val_loss: 0.7336 - val_mse: 0.7336 - val_mae: 0.5981\n",
            "Epoch 30/30\n",
            "678/678 [==============================] - 1s 2ms/step - loss: 0.6829 - mse: 0.6829 - mae: 0.5708 - val_loss: 0.7548 - val_mse: 0.7548 - val_mae: 0.6034\n"
          ]
        }
      ],
      "source": [
        "#history=NN_model.fit(x_train_scaled, y_train.values, batch_size=32, validation_split = 0.2, callbacks=callbacks_list,verbose=False)\n",
        "history=NN_model.fit(x_train_scaled, y_train_scaled.values, epochs=30, batch_size=150, verbose=1, validation_split=0.2)"
      ]
    },
    {
      "cell_type": "code",
      "execution_count": null,
      "metadata": {
        "colab": {
          "base_uri": "https://localhost:8080/",
          "height": 312
        },
        "id": "pdQp2C5_SXvk",
        "outputId": "71ae225a-8845-4d25-a61f-9d2dd2ccdf3a"
      },
      "outputs": [
        {
          "output_type": "stream",
          "name": "stdout",
          "text": [
            "dict_keys(['loss', 'mse', 'mae', 'val_loss', 'val_mse', 'val_mae'])\n"
          ]
        },
        {
          "output_type": "display_data",
          "data": {
            "text/plain": [
              "<Figure size 432x288 with 1 Axes>"
            ],
            "image/png": "[encoded data removed]"
          },
          "metadata": {
            "needs_background": "light"
          }
        }
      ],
      "source": [
        "print(history.history.keys())\n",
        "# \"Loss\"\n",
        "plt.plot(history.history['loss'])\n",
        "plt.plot(history.history['val_loss'])\n",
        "plt.title('model loss')\n",
        "plt.ylabel('loss')\n",
        "plt.xlabel('epoch')\n",
        "plt.legend(['train', 'validation'], loc='upper left')\n",
        "plt.show()"
      ]
    },
    {
      "cell_type": "code",
      "execution_count": null,
      "metadata": {
        "id": "saTmhQbcGrcJ",
        "colab": {
          "base_uri": "https://localhost:8080/"
        },
        "outputId": "b3aa4166-9bae-41ce-e8e4-f077a6265b82"
      },
      "outputs": [
        {
          "output_type": "stream",
          "name": "stdout",
          "text": [
            "993/993 [==============================] - 1s 926us/step\n"
          ]
        }
      ],
      "source": [
        "y_pred_test=NN_model.predict(x_test_scaled)"
      ]
    },
    {
      "cell_type": "code",
      "execution_count": null,
      "metadata": {
        "id": "MS8pxXEXQGH4"
      },
      "outputs": [],
      "source": [
        "y_pred_test1=y_pred_test.reshape((len(y_pred_test),))"
      ]
    },
    {
      "cell_type": "code",
      "execution_count": null,
      "metadata": {
        "scrolled": false,
        "colab": {
          "base_uri": "https://localhost:8080/"
        },
        "id": "WTm0SGkOSXvl",
        "outputId": "5f4c7409-b273-4780-a8d8-84f659cb3e9f"
      },
      "outputs": [
        {
          "output_type": "stream",
          "name": "stdout",
          "text": [
            "Mean squared error for test data is 0.6968115239490945\n",
            "Root mean squared error for test data is 0.8347523728322637\n",
            "Mean absolute precentage error for test data is 2.1030375200931983\n"
          ]
        }
      ],
      "source": [
        "evaluate_metrics(y_pred_test1)"
      ]
    },
    {
      "cell_type": "markdown",
      "metadata": {
        "id": "wruX_4J0SXvl"
      },
      "source": [
        "## Neural Network - 2 Hidden Layers"
      ]
    },
    {
      "cell_type": "code",
      "execution_count": null,
      "metadata": {
        "colab": {
          "base_uri": "https://localhost:8080/"
        },
        "id": "r3ncswMpSXvl",
        "outputId": "70fc9556-ad90-4e92-e4db-9b9fd1654239"
      },
      "outputs": [
        {
          "output_type": "stream",
          "name": "stdout",
          "text": [
            "Model: \"sequential_1\"\n",
            "_________________________________________________________________\n",
            " Layer (type)                Output Shape              Param #   \n",
            "=================================================================\n",
            " dense_3 (Dense)             (None, 128)               6656      \n",
            "                                                                 \n",
            " dense_4 (Dense)             (None, 64)                8256      \n",
            "                                                                 \n",
            " dense_5 (Dense)             (None, 256)               16640     \n",
            "                                                                 \n",
            " dense_6 (Dense)             (None, 1)                 257       \n",
            "                                                                 \n",
            "=================================================================\n",
            "Total params: 31,809\n",
            "Trainable params: 31,809\n",
            "Non-trainable params: 0\n",
            "_________________________________________________________________\n"
          ]
        }
      ],
      "source": [
        "NN_model = Sequential()\n",
        "\n",
        "# The Input Layer :\n",
        "NN_model.add(Dense(128, kernel_initializer='normal',input_dim = x_train_scaled.shape[1], activation='relu'))\n",
        "\n",
        "# The Hidden Layers :\n",
        "NN_model.add(Dense(64, kernel_initializer='normal',activation='relu'))\n",
        "NN_model.add(Dense(256, kernel_initializer='normal',activation='relu'))\n",
        "\n",
        "# The Output Layer :\n",
        "NN_model.add(Dense(1, kernel_initializer='normal',activation='linear'))\n",
        "\n",
        "# Compile the network :\n",
        "NN_model.compile(loss='mean_absolute_error', optimizer='adam', metrics=['mean_absolute_error','mean_squared_error'])\n",
        "NN_model.summary()"
      ]
    },
    {
      "cell_type": "code",
      "execution_count": null,
      "metadata": {
        "colab": {
          "base_uri": "https://localhost:8080/"
        },
        "id": "5gL5F871SXvm",
        "outputId": "890bafe0-019b-439e-8c8a-a6c7785db42e"
      },
      "outputs": [
        {
          "output_type": "stream",
          "name": "stdout",
          "text": [
            "\n",
            "Epoch 1: val_loss improved from inf to 0.59880, saving model to Weights-001--0.59880.hdf5\n"
          ]
        }
      ],
      "source": [
        "history=NN_model.fit(x_train_scaled, y_train_scaled.values, batch_size=32, validation_split = 0.2, callbacks=callbacks_list,verbose=False)"
      ]
    },
    {
      "cell_type": "code",
      "execution_count": null,
      "metadata": {
        "colab": {
          "base_uri": "https://localhost:8080/"
        },
        "id": "U_nT8yR5SXvm",
        "outputId": "8b0759a8-e0bf-4936-a74e-155f9847c954"
      },
      "outputs": [
        {
          "output_type": "stream",
          "name": "stdout",
          "text": [
            "993/993 [==============================] - 1s 1ms/step\n"
          ]
        }
      ],
      "source": [
        "y_pred_test=NN_model.predict(x_test_scaled)"
      ]
    },
    {
      "cell_type": "code",
      "execution_count": null,
      "metadata": {
        "id": "qEjvoX-aSXvm"
      },
      "outputs": [],
      "source": [
        "y_pred_test1=y_pred_test.reshape((len(y_pred_test)))"
      ]
    },
    {
      "cell_type": "code",
      "execution_count": null,
      "metadata": {
        "colab": {
          "base_uri": "https://localhost:8080/"
        },
        "id": "H8Jlrff4SXvm",
        "outputId": "ab65e859-fd60-4f0f-b52b-ec5709986b5f"
      },
      "outputs": [
        {
          "output_type": "stream",
          "name": "stdout",
          "text": [
            "Mean squared error for test data is 0.7121220676599835\n",
            "Root mean squared error for test data is 0.8438732533147283\n",
            "Mean absolute precentage error for test data is 1.8436661338966343\n"
          ]
        }
      ],
      "source": [
        "evaluate_metrics(y_pred_test1)"
      ]
    },
    {
      "cell_type": "markdown",
      "metadata": {
        "id": "ekAHEkMeSXvn"
      },
      "source": [
        "## Neural Network - 3 Hidden Layers"
      ]
    },
    {
      "cell_type": "code",
      "execution_count": null,
      "metadata": {
        "colab": {
          "base_uri": "https://localhost:8080/"
        },
        "id": "xHVYw-5uSXvn",
        "outputId": "aff52843-6d79-4ea8-d25b-4d7ab9e442da"
      },
      "outputs": [
        {
          "output_type": "stream",
          "name": "stdout",
          "text": [
            "Model: \"sequential_2\"\n",
            "_________________________________________________________________\n",
            " Layer (type)                Output Shape              Param #   \n",
            "=================================================================\n",
            " dense_7 (Dense)             (None, 128)               6656      \n",
            "                                                                 \n",
            " dense_8 (Dense)             (None, 128)               16512     \n",
            "                                                                 \n",
            " dense_9 (Dense)             (None, 256)               33024     \n",
            "                                                                 \n",
            " dense_10 (Dense)            (None, 256)               65792     \n",
            "                                                                 \n",
            " dense_11 (Dense)            (None, 1)                 257       \n",
            "                                                                 \n",
            "=================================================================\n",
            "Total params: 122,241\n",
            "Trainable params: 122,241\n",
            "Non-trainable params: 0\n",
            "_________________________________________________________________\n"
          ]
        }
      ],
      "source": [
        "NN_model3 = Sequential()\n",
        "\n",
        "# The Input Layer :\n",
        "NN_model3.add(Dense(128, kernel_initializer='normal',input_dim = x_train_scaled.shape[1], activation='linear'))\n",
        "\n",
        "# The Hidden Layers :\n",
        "NN_model3.add(Dense(128, kernel_initializer='normal',activation='linear'))\n",
        "NN_model3.add(Dense(256, kernel_initializer='normal',activation='relu'))\n",
        "NN_model3.add(Dense(256, kernel_initializer='normal',activation='relu'))\n",
        "\n",
        "# The Output Layer :\n",
        "NN_model3.add(Dense(1, kernel_initializer='normal',activation='linear'))\n",
        "\n",
        "# Compile the network :\n",
        "NN_model3.compile(loss='mean_squared_error', optimizer='adam', metrics=['accuracy'])\n",
        "NN_model3.summary()"
      ]
    },
    {
      "cell_type": "code",
      "execution_count": null,
      "metadata": {
        "scrolled": true,
        "colab": {
          "base_uri": "https://localhost:8080/"
        },
        "id": "DNiW_8sESXvn",
        "outputId": "14b1edf4-3bdb-4282-d8f7-5781f9c5e22a"
      },
      "outputs": [
        {
          "output_type": "stream",
          "name": "stdout",
          "text": [
            "Epoch 1/30\n",
            "3177/3177 [==============================] - 12s 4ms/step - loss: 0.8183 - accuracy: 0.0000e+00 - val_loss: 0.7828 - val_accuracy: 0.0000e+00\n",
            "Epoch 2/30\n",
            "3177/3177 [==============================] - 11s 3ms/step - loss: 0.8360 - accuracy: 0.0000e+00 - val_loss: 0.7504 - val_accuracy: 0.0000e+00\n",
            "Epoch 3/30\n",
            "3177/3177 [==============================] - 11s 4ms/step - loss: 0.7871 - accuracy: 0.0000e+00 - val_loss: 0.7473 - val_accuracy: 0.0000e+00\n",
            "Epoch 4/30\n",
            "3177/3177 [==============================] - 11s 4ms/step - loss: 0.7832 - accuracy: 0.0000e+00 - val_loss: 0.7498 - val_accuracy: 0.0000e+00\n",
            "Epoch 5/30\n",
            "3177/3177 [==============================] - 11s 4ms/step - loss: 0.7880 - accuracy: 0.0000e+00 - val_loss: 0.7643 - val_accuracy: 0.0000e+00\n",
            "Epoch 6/30\n",
            "3177/3177 [==============================] - 11s 4ms/step - loss: 0.7800 - accuracy: 0.0000e+00 - val_loss: 0.7420 - val_accuracy: 0.0000e+00\n",
            "Epoch 7/30\n",
            "3177/3177 [==============================] - 11s 3ms/step - loss: 0.7711 - accuracy: 0.0000e+00 - val_loss: 0.7593 - val_accuracy: 0.0000e+00\n",
            "Epoch 8/30\n",
            "3177/3177 [==============================] - 11s 3ms/step - loss: 0.7764 - accuracy: 0.0000e+00 - val_loss: 0.7352 - val_accuracy: 0.0000e+00\n",
            "Epoch 9/30\n",
            "3177/3177 [==============================] - 11s 3ms/step - loss: 0.7694 - accuracy: 0.0000e+00 - val_loss: 0.7334 - val_accuracy: 0.0000e+00\n",
            "Epoch 10/30\n",
            "3177/3177 [==============================] - 11s 3ms/step - loss: 0.7681 - accuracy: 0.0000e+00 - val_loss: 0.7414 - val_accuracy: 0.0000e+00\n",
            "Epoch 11/30\n",
            "3177/3177 [==============================] - 11s 4ms/step - loss: 0.7640 - accuracy: 0.0000e+00 - val_loss: 0.7396 - val_accuracy: 0.0000e+00\n",
            "Epoch 12/30\n",
            "3177/3177 [==============================] - 12s 4ms/step - loss: 0.7754 - accuracy: 0.0000e+00 - val_loss: 0.7452 - val_accuracy: 0.0000e+00\n",
            "Epoch 13/30\n",
            "3177/3177 [==============================] - 11s 4ms/step - loss: 0.7663 - accuracy: 0.0000e+00 - val_loss: 0.7396 - val_accuracy: 0.0000e+00\n",
            "Epoch 14/30\n",
            "3177/3177 [==============================] - 11s 4ms/step - loss: 0.7611 - accuracy: 0.0000e+00 - val_loss: 0.7402 - val_accuracy: 0.0000e+00\n",
            "Epoch 15/30\n",
            "3177/3177 [==============================] - 11s 4ms/step - loss: 0.7745 - accuracy: 0.0000e+00 - val_loss: 0.7473 - val_accuracy: 0.0000e+00\n",
            "Epoch 16/30\n",
            "3177/3177 [==============================] - 11s 4ms/step - loss: 0.7639 - accuracy: 0.0000e+00 - val_loss: 0.7318 - val_accuracy: 0.0000e+00\n",
            "Epoch 17/30\n",
            "3177/3177 [==============================] - 11s 4ms/step - loss: 0.7700 - accuracy: 0.0000e+00 - val_loss: 0.7451 - val_accuracy: 0.0000e+00\n",
            "Epoch 18/30\n",
            "3177/3177 [==============================] - 11s 4ms/step - loss: 0.7610 - accuracy: 0.0000e+00 - val_loss: 0.7360 - val_accuracy: 0.0000e+00\n",
            "Epoch 19/30\n",
            "3177/3177 [==============================] - 11s 4ms/step - loss: 0.7589 - accuracy: 0.0000e+00 - val_loss: 0.7378 - val_accuracy: 0.0000e+00\n",
            "Epoch 20/30\n",
            "3177/3177 [==============================] - 11s 4ms/step - loss: 0.7630 - accuracy: 0.0000e+00 - val_loss: 0.7277 - val_accuracy: 0.0000e+00\n",
            "Epoch 21/30\n",
            "3177/3177 [==============================] - 11s 4ms/step - loss: 0.7557 - accuracy: 0.0000e+00 - val_loss: 0.7392 - val_accuracy: 0.0000e+00\n",
            "Epoch 22/30\n",
            "3177/3177 [==============================] - 11s 4ms/step - loss: 0.7609 - accuracy: 0.0000e+00 - val_loss: 0.7386 - val_accuracy: 0.0000e+00\n",
            "Epoch 23/30\n",
            "3177/3177 [==============================] - 12s 4ms/step - loss: 0.7533 - accuracy: 0.0000e+00 - val_loss: 0.7349 - val_accuracy: 0.0000e+00\n",
            "Epoch 24/30\n",
            "3177/3177 [==============================] - 11s 4ms/step - loss: 0.7587 - accuracy: 0.0000e+00 - val_loss: 0.7308 - val_accuracy: 0.0000e+00\n",
            "Epoch 25/30\n",
            "3177/3177 [==============================] - 11s 4ms/step - loss: 0.7527 - accuracy: 0.0000e+00 - val_loss: 0.7653 - val_accuracy: 0.0000e+00\n",
            "Epoch 26/30\n",
            "3177/3177 [==============================] - 11s 3ms/step - loss: 0.7564 - accuracy: 0.0000e+00 - val_loss: 0.7391 - val_accuracy: 0.0000e+00\n",
            "Epoch 27/30\n",
            "3177/3177 [==============================] - 11s 4ms/step - loss: 0.7519 - accuracy: 0.0000e+00 - val_loss: 0.7262 - val_accuracy: 0.0000e+00\n",
            "Epoch 28/30\n",
            "3177/3177 [==============================] - 11s 4ms/step - loss: 0.7535 - accuracy: 0.0000e+00 - val_loss: 0.7429 - val_accuracy: 0.0000e+00\n",
            "Epoch 29/30\n",
            "3177/3177 [==============================] - 11s 3ms/step - loss: 0.7522 - accuracy: 0.0000e+00 - val_loss: 0.7265 - val_accuracy: 0.0000e+00\n",
            "Epoch 30/30\n",
            "3177/3177 [==============================] - 14s 4ms/step - loss: 0.7509 - accuracy: 0.0000e+00 - val_loss: 0.7385 - val_accuracy: 0.0000e+00\n"
          ]
        }
      ],
      "source": [
        "history=NN_model3.fit(x_train_scaled, y_train_scaled.values, batch_size=32, validation_split = 0.2,epochs=30)"
      ]
    },
    {
      "cell_type": "code",
      "execution_count": null,
      "metadata": {
        "colab": {
          "base_uri": "https://localhost:8080/",
          "height": 312
        },
        "id": "lVYvOtUWSXvo",
        "outputId": "0c3c3630-2706-4713-dd94-dfe2af328f4c"
      },
      "outputs": [
        {
          "output_type": "stream",
          "name": "stdout",
          "text": [
            "dict_keys(['loss', 'accuracy', 'val_loss', 'val_accuracy'])\n"
          ]
        },
        {
          "output_type": "display_data",
          "data": {
            "text/plain": [
              "<Figure size 432x288 with 1 Axes>"
            ],
            "image/png": "[encoded data removed]"
          },
          "metadata": {
            "needs_background": "light"
          }
        }
      ],
      "source": [
        "print(history.history.keys())\n",
        "# \"Loss\"\n",
        "plt.plot(history.history['loss'])\n",
        "plt.plot(history.history['val_loss'])\n",
        "plt.title('model loss')\n",
        "plt.ylabel('loss')\n",
        "plt.xlabel('epoch')\n",
        "plt.legend(['train', 'validation'], loc='upper left')\n",
        "plt.show()"
      ]
    },
    {
      "cell_type": "code",
      "execution_count": null,
      "metadata": {
        "colab": {
          "base_uri": "https://localhost:8080/"
        },
        "id": "ey5Dtj0rSXvo",
        "outputId": "47eb34c9-4e48-4ee6-bc42-18473c66591d"
      },
      "outputs": [
        {
          "output_type": "stream",
          "name": "stdout",
          "text": [
            "993/993 [==============================] - 2s 2ms/step\n"
          ]
        }
      ],
      "source": [
        "y_pred_test=NN_model3.predict(x_test_scaled)"
      ]
    },
    {
      "cell_type": "code",
      "execution_count": null,
      "metadata": {
        "id": "_OwzEANmSXvo"
      },
      "outputs": [],
      "source": [
        "y_pred_test1=y_pred_test.reshape((len(y_pred_test)))"
      ]
    },
    {
      "cell_type": "code",
      "execution_count": null,
      "metadata": {
        "colab": {
          "base_uri": "https://localhost:8080/"
        },
        "id": "KXg3QqQeSXvp",
        "outputId": "34ef03b9-3c3c-4781-a2f0-7127acabd594"
      },
      "outputs": [
        {
          "output_type": "stream",
          "name": "stdout",
          "text": [
            "Mean squared error for test data is 0.6828410837358015\n",
            "Root mean squared error for test data is 0.8263419895756245\n",
            "Mean absolute precentage error for test data is 2.1836028955297637\n"
          ]
        }
      ],
      "source": [
        "evaluate_metrics(y_pred_test1)"
      ]
    },
    {
      "cell_type": "markdown",
      "metadata": {
        "id": "xHZM0pp1SXvp"
      },
      "source": [
        "## Questionnaire\n",
        "### 1. Problem Statment\n",
        "##### Porter needs to get an anticipated delivery time that it can give the consumers based on what they are ordering, where they are getting it from, and the delivery partners.\n",
        "\n",
        "### 2. List 3 functions the pandas datetime provides with one line explanation.\n",
        "#### dt.year, dt.month and dt.day are the inbuilt attributes to get year, month , and day from Pandas datetime object.\n",
        "\n",
        "### 3. Short note on datetime, timedelta, time span (period)\n",
        "#### datetime: module supplies classes to work with date and time.\n",
        "#### timedelta: object represents a duration, the difference between two dates or times\n",
        "#### timespan: allow to check if a timestamp falls within a specified list of boundaries\n",
        "\n",
        "### 4. Why do we need to check for outliers in our data?\n",
        "#### Outliers in input data can skew and mislead the training process of machine learning algorithms resulting in longer training times, less accurate models and ultimately poorer results\n",
        "\n",
        "### 5. Name 3 outlier removal methods?\n",
        "#### Unsupervised: Local Outlier Factor, DBScan, Isolation Forest, Elliptic Envelope\n",
        "\n",
        "### 6. What classical machine learning methods can we use other than random forest for regression?\n",
        "#### Linear Regression, Decision Tree, Support Vector Machine\n",
        "\n",
        "### 7. Why is scaling required for neural networks?\n",
        "#### In the case of neural networks, feature scaling benefits optimization by making the training faster. It prevents the optimization from getting stuck in local optima.\n",
        "\n",
        "### 8. Briefly explain your choice of optimizer.\n",
        "#### Used Adam Optimizer as it has faster computation time, and require fewer parameters for tuning.\n",
        "\n",
        "### 9. Which activation function did you use and why?\n",
        "#### ReLu results in a numerical value greater than 0\n",
        "\n",
        "\n",
        "### 10. Why does a neural network perform well on a large dataset?\n",
        "#### helps counter the neural network problem of high variance to a certain extent"
      ]
    }
  ],
  "metadata": {
    "colab": {
      "provenance": []
    },
    "gpuClass": "standard",
    "kernelspec": {
      "display_name": "Python 3 (ipykernel)",
      "language": "python",
      "name": "python3"
    },
    "language_info": {
      "codemirror_mode": {
        "name": "ipython",
        "version": 3
      },
      "file_extension": ".py",
      "mimetype": "text/x-python",
      "name": "python",
      "nbconvert_exporter": "python",
      "pygments_lexer": "ipython3",
      "version": "3.9.12"
    }
  },
  "nbformat": 4,
  "nbformat_minor": 0
}